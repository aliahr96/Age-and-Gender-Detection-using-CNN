{
  "nbformat": 4,
  "nbformat_minor": 0,
  "metadata": {
    "kernelspec": {
      "display_name": "Python 3",
      "language": "python",
      "name": "python3"
    },
    "language_info": {
      "codemirror_mode": {
        "name": "ipython",
        "version": 3
      },
      "file_extension": ".py",
      "mimetype": "text/x-python",
      "name": "python",
      "nbconvert_exporter": "python",
      "pygments_lexer": "ipython3",
      "version": "3.7.6"
    },
    "papermill": {
      "duration": 27131.301239,
      "end_time": "2021-01-26T07:32:16.840782",
      "environment_variables": {},
      "exception": null,
      "input_path": "__notebook__.ipynb",
      "output_path": "__notebook__.ipynb",
      "parameters": {},
      "start_time": "2021-01-26T00:00:05.539543",
      "version": "2.1.0"
    },
    "colab": {
      "name": "testagegender (9).ipynb",
      "provenance": []
    }
  },
  "cells": [
    {
      "cell_type": "code",
      "metadata": {
        "_cell_guid": "b1076dfc-b9ad-4769-8c92-a6c4dae69d19",
        "_uuid": "8f2839f25d086af736a60e9eeb907d3b93b6e0e5",
        "execution": {
          "iopub.execute_input": "2021-01-26T00:00:10.536574Z",
          "iopub.status.busy": "2021-01-26T00:00:10.535800Z",
          "iopub.status.idle": "2021-01-26T00:00:40.176064Z",
          "shell.execute_reply": "2021-01-26T00:00:40.174416Z"
        },
        "papermill": {
          "duration": 29.680992,
          "end_time": "2021-01-26T00:00:40.176214",
          "exception": false,
          "start_time": "2021-01-26T00:00:10.495222",
          "status": "completed"
        },
        "tags": [],
        "id": "3wIJiAPQkEJo"
      },
      "source": [
        "# This Python 3 environment comes with many helpful analytics libraries installed\n",
        "# It is defined by the kaggle/python Docker image: https://github.com/kaggle/docker-python\n",
        "# For example, here's several helpful packages to load\n",
        "\n",
        "import numpy as np # linear algebra\n",
        "import pandas as pd # data processing, CSV file I/O (e.g. pd.read_csv)\n",
        "\n",
        "# Input data files are available in the read-only \"../input/\" directory\n",
        "# For example, running this (by clicking run or pressing Shift+Enter) will list all files under the input directory\n",
        "\n",
        "import os\n",
        "for dirname, _, filenames in os.walk('/kaggle/input'):\n",
        "    for filename in filenames:\n",
        "        os.path.join(dirname, filename)\n",
        "\n",
        "# You can write up to 20GB to the current directory (/kaggle/working/) that gets preserved as output when you create a version using \"Save & Run All\" \n",
        "# You can also write temporary files to /kaggle/temp/, but they won't be saved outside of the current session"
      ],
      "execution_count": null,
      "outputs": []
    },
    {
      "cell_type": "markdown",
      "metadata": {
        "papermill": {
          "duration": 0.054038,
          "end_time": "2021-01-26T00:00:40.285571",
          "exception": false,
          "start_time": "2021-01-26T00:00:40.231533",
          "status": "completed"
        },
        "tags": [],
        "id": "EGPu5__VkEJw"
      },
      "source": [
        "# Import important libraries"
      ]
    },
    {
      "cell_type": "code",
      "metadata": {
        "execution": {
          "iopub.execute_input": "2021-01-26T00:00:40.402831Z",
          "iopub.status.busy": "2021-01-26T00:00:40.402008Z",
          "iopub.status.idle": "2021-01-26T00:00:47.647455Z",
          "shell.execute_reply": "2021-01-26T00:00:47.646793Z"
        },
        "papermill": {
          "duration": 7.307449,
          "end_time": "2021-01-26T00:00:47.647579",
          "exception": false,
          "start_time": "2021-01-26T00:00:40.340130",
          "status": "completed"
        },
        "tags": [],
        "id": "yJcMumVvkEJw"
      },
      "source": [
        "import numpy as np\n",
        "import pandas as pd\n",
        "import matplotlib.pyplot as plt\n",
        "import seaborn as sns\n",
        "import cv2\n",
        "from PIL import Image\n",
        "\n",
        "import tensorflow as tf\n",
        "from keras.models import Sequential\n",
        "from keras.layers import Conv2D, MaxPooling2D, Activation, Dropout, Flatten, Dense, Dropout, LayerNormalization\n",
        "from keras.preprocessing.image import ImageDataGenerator, img_to_array, load_img"
      ],
      "execution_count": null,
      "outputs": []
    },
    {
      "cell_type": "markdown",
      "metadata": {
        "papermill": {
          "duration": 0.036708,
          "end_time": "2021-01-26T00:00:47.722917",
          "exception": false,
          "start_time": "2021-01-26T00:00:47.686209",
          "status": "completed"
        },
        "tags": [],
        "id": "AN4-wC9KkEJx"
      },
      "source": [
        "# Dataset"
      ]
    },
    {
      "cell_type": "code",
      "metadata": {
        "execution": {
          "iopub.execute_input": "2021-01-26T00:00:47.812057Z",
          "iopub.status.busy": "2021-01-26T00:00:47.811345Z",
          "iopub.status.idle": "2021-01-26T00:00:47.940812Z",
          "shell.execute_reply": "2021-01-26T00:00:47.940122Z"
        },
        "papermill": {
          "duration": 0.181036,
          "end_time": "2021-01-26T00:00:47.940949",
          "exception": false,
          "start_time": "2021-01-26T00:00:47.759913",
          "status": "completed"
        },
        "tags": [],
        "id": "_yS4ZpekkEJx"
      },
      "source": [
        "#load data\n",
        "data = pd.read_csv(\"/kaggle/input/adience-benchmark-gender-and-age-classification/AdienceBenchmarkGenderAndAgeClassification/fold_3_data.txt\",sep = \"\\t\" )\n",
        "data1 = pd.read_csv(\"/kaggle/input/adience-benchmark-gender-and-age-classification/AdienceBenchmarkGenderAndAgeClassification/fold_1_data.txt\",sep = \"\\t\")\n",
        "data2 = pd.read_csv(\"/kaggle/input/adience-benchmark-gender-and-age-classification/AdienceBenchmarkGenderAndAgeClassification/fold_2_data.txt\",sep = \"\\t\")\n",
        "data3 = pd.read_csv(\"/kaggle/input/adience-benchmark-gender-and-age-classification/AdienceBenchmarkGenderAndAgeClassification/fold_0_data.txt\",sep = \"\\t\")\n",
        "data4 = pd.read_csv(\"/kaggle/input/adience-benchmark-gender-and-age-classification/AdienceBenchmarkGenderAndAgeClassification/fold_4_data.txt\",sep = \"\\t\")"
      ],
      "execution_count": null,
      "outputs": []
    },
    {
      "cell_type": "code",
      "metadata": {
        "execution": {
          "iopub.execute_input": "2021-01-26T00:00:48.034655Z",
          "iopub.status.busy": "2021-01-26T00:00:48.033701Z",
          "iopub.status.idle": "2021-01-26T00:00:48.043592Z",
          "shell.execute_reply": "2021-01-26T00:00:48.043027Z"
        },
        "papermill": {
          "duration": 0.063101,
          "end_time": "2021-01-26T00:00:48.043709",
          "exception": false,
          "start_time": "2021-01-26T00:00:47.980608",
          "status": "completed"
        },
        "tags": [],
        "id": "TtDpTLB6kEJy",
        "outputId": "f801b451-9840-47aa-bbdd-a0809ab5ece1"
      },
      "source": [
        "#gathring the data\n",
        "total_data = pd.concat([data, data1, data2, data3, data4], ignore_index=True)\n",
        "print(data.shape)\n",
        "print(data1.shape)\n",
        "print(data2.shape)\n",
        "print(data3.shape)\n",
        "print(data4.shape)\n",
        "print(total_data.shape)"
      ],
      "execution_count": null,
      "outputs": [
        {
          "output_type": "stream",
          "text": [
            "(3446, 12)\n",
            "(3730, 12)\n",
            "(3894, 12)\n",
            "(4484, 12)\n",
            "(3816, 12)\n",
            "(19370, 12)\n"
          ],
          "name": "stdout"
        }
      ]
    },
    {
      "cell_type": "code",
      "metadata": {
        "execution": {
          "iopub.execute_input": "2021-01-26T00:00:48.142369Z",
          "iopub.status.busy": "2021-01-26T00:00:48.134274Z",
          "iopub.status.idle": "2021-01-26T00:00:48.164983Z",
          "shell.execute_reply": "2021-01-26T00:00:48.163615Z"
        },
        "papermill": {
          "duration": 0.083621,
          "end_time": "2021-01-26T00:00:48.165244",
          "exception": false,
          "start_time": "2021-01-26T00:00:48.081623",
          "status": "completed"
        },
        "tags": [],
        "id": "CXV0JgbLkEJz",
        "outputId": "4d2b2ab5-a2ec-4115-ecd4-8b4fa9c7cebc"
      },
      "source": [
        "#present data\n",
        "total_data.head()"
      ],
      "execution_count": null,
      "outputs": [
        {
          "output_type": "execute_result",
          "data": {
            "text/html": [
              "<div>\n",
              "<style scoped>\n",
              "    .dataframe tbody tr th:only-of-type {\n",
              "        vertical-align: middle;\n",
              "    }\n",
              "\n",
              "    .dataframe tbody tr th {\n",
              "        vertical-align: top;\n",
              "    }\n",
              "\n",
              "    .dataframe thead th {\n",
              "        text-align: right;\n",
              "    }\n",
              "</style>\n",
              "<table border=\"1\" class=\"dataframe\">\n",
              "  <thead>\n",
              "    <tr style=\"text-align: right;\">\n",
              "      <th></th>\n",
              "      <th>user_id</th>\n",
              "      <th>original_image</th>\n",
              "      <th>face_id</th>\n",
              "      <th>age</th>\n",
              "      <th>gender</th>\n",
              "      <th>x</th>\n",
              "      <th>y</th>\n",
              "      <th>dx</th>\n",
              "      <th>dy</th>\n",
              "      <th>tilt_ang</th>\n",
              "      <th>fiducial_yaw_angle</th>\n",
              "      <th>fiducial_score</th>\n",
              "    </tr>\n",
              "  </thead>\n",
              "  <tbody>\n",
              "    <tr>\n",
              "      <th>0</th>\n",
              "      <td>113445054@N07</td>\n",
              "      <td>11763777465_11d01c34ce_o.jpg</td>\n",
              "      <td>1322</td>\n",
              "      <td>(25, 32)</td>\n",
              "      <td>m</td>\n",
              "      <td>1102</td>\n",
              "      <td>296</td>\n",
              "      <td>357</td>\n",
              "      <td>357</td>\n",
              "      <td>-15</td>\n",
              "      <td>0</td>\n",
              "      <td>59</td>\n",
              "    </tr>\n",
              "    <tr>\n",
              "      <th>1</th>\n",
              "      <td>113445054@N07</td>\n",
              "      <td>11763777465_11d01c34ce_o.jpg</td>\n",
              "      <td>1323</td>\n",
              "      <td>(25, 32)</td>\n",
              "      <td>f</td>\n",
              "      <td>1713</td>\n",
              "      <td>580</td>\n",
              "      <td>325</td>\n",
              "      <td>325</td>\n",
              "      <td>-5</td>\n",
              "      <td>0</td>\n",
              "      <td>118</td>\n",
              "    </tr>\n",
              "    <tr>\n",
              "      <th>2</th>\n",
              "      <td>113445054@N07</td>\n",
              "      <td>11763777465_11d01c34ce_o.jpg</td>\n",
              "      <td>1324</td>\n",
              "      <td>(15, 20)</td>\n",
              "      <td>f</td>\n",
              "      <td>1437</td>\n",
              "      <td>664</td>\n",
              "      <td>306</td>\n",
              "      <td>306</td>\n",
              "      <td>5</td>\n",
              "      <td>0</td>\n",
              "      <td>109</td>\n",
              "    </tr>\n",
              "    <tr>\n",
              "      <th>3</th>\n",
              "      <td>113445054@N07</td>\n",
              "      <td>11764005785_f21921aea6_o.jpg</td>\n",
              "      <td>1325</td>\n",
              "      <td>(25, 32)</td>\n",
              "      <td>f</td>\n",
              "      <td>978</td>\n",
              "      <td>229</td>\n",
              "      <td>803</td>\n",
              "      <td>803</td>\n",
              "      <td>-20</td>\n",
              "      <td>-45</td>\n",
              "      <td>16</td>\n",
              "    </tr>\n",
              "    <tr>\n",
              "      <th>4</th>\n",
              "      <td>113445054@N07</td>\n",
              "      <td>11763728674_a41d99f71e_o.jpg</td>\n",
              "      <td>1326</td>\n",
              "      <td>(25, 32)</td>\n",
              "      <td>m</td>\n",
              "      <td>1745</td>\n",
              "      <td>910</td>\n",
              "      <td>242</td>\n",
              "      <td>242</td>\n",
              "      <td>-10</td>\n",
              "      <td>0</td>\n",
              "      <td>55</td>\n",
              "    </tr>\n",
              "  </tbody>\n",
              "</table>\n",
              "</div>"
            ],
            "text/plain": [
              "         user_id                original_image  face_id       age gender  \\\n",
              "0  113445054@N07  11763777465_11d01c34ce_o.jpg     1322  (25, 32)      m   \n",
              "1  113445054@N07  11763777465_11d01c34ce_o.jpg     1323  (25, 32)      f   \n",
              "2  113445054@N07  11763777465_11d01c34ce_o.jpg     1324  (15, 20)      f   \n",
              "3  113445054@N07  11764005785_f21921aea6_o.jpg     1325  (25, 32)      f   \n",
              "4  113445054@N07  11763728674_a41d99f71e_o.jpg     1326  (25, 32)      m   \n",
              "\n",
              "      x    y   dx   dy  tilt_ang  fiducial_yaw_angle  fiducial_score  \n",
              "0  1102  296  357  357       -15                   0              59  \n",
              "1  1713  580  325  325        -5                   0             118  \n",
              "2  1437  664  306  306         5                   0             109  \n",
              "3   978  229  803  803       -20                 -45              16  \n",
              "4  1745  910  242  242       -10                   0              55  "
            ]
          },
          "metadata": {
            "tags": []
          },
          "execution_count": 5
        }
      ]
    },
    {
      "cell_type": "code",
      "metadata": {
        "execution": {
          "iopub.execute_input": "2021-01-26T00:00:48.293506Z",
          "iopub.status.busy": "2021-01-26T00:00:48.290474Z",
          "iopub.status.idle": "2021-01-26T00:00:48.326618Z",
          "shell.execute_reply": "2021-01-26T00:00:48.327511Z"
        },
        "papermill": {
          "duration": 0.103095,
          "end_time": "2021-01-26T00:00:48.327701",
          "exception": false,
          "start_time": "2021-01-26T00:00:48.224606",
          "status": "completed"
        },
        "tags": [],
        "id": "9_rxZU47kEJz",
        "outputId": "e966c93e-a8c3-4160-b5ac-cbc811040a35"
      },
      "source": [
        "#data describtion\n",
        "data.describe()"
      ],
      "execution_count": null,
      "outputs": [
        {
          "output_type": "execute_result",
          "data": {
            "text/html": [
              "<div>\n",
              "<style scoped>\n",
              "    .dataframe tbody tr th:only-of-type {\n",
              "        vertical-align: middle;\n",
              "    }\n",
              "\n",
              "    .dataframe tbody tr th {\n",
              "        vertical-align: top;\n",
              "    }\n",
              "\n",
              "    .dataframe thead th {\n",
              "        text-align: right;\n",
              "    }\n",
              "</style>\n",
              "<table border=\"1\" class=\"dataframe\">\n",
              "  <thead>\n",
              "    <tr style=\"text-align: right;\">\n",
              "      <th></th>\n",
              "      <th>face_id</th>\n",
              "      <th>x</th>\n",
              "      <th>y</th>\n",
              "      <th>dx</th>\n",
              "      <th>dy</th>\n",
              "      <th>tilt_ang</th>\n",
              "      <th>fiducial_yaw_angle</th>\n",
              "      <th>fiducial_score</th>\n",
              "    </tr>\n",
              "  </thead>\n",
              "  <tbody>\n",
              "    <tr>\n",
              "      <th>count</th>\n",
              "      <td>3446.000000</td>\n",
              "      <td>3446.000000</td>\n",
              "      <td>3446.000000</td>\n",
              "      <td>3446.000000</td>\n",
              "      <td>3446.000000</td>\n",
              "      <td>3446.000000</td>\n",
              "      <td>3446.000000</td>\n",
              "      <td>3446.000000</td>\n",
              "    </tr>\n",
              "    <tr>\n",
              "      <th>mean</th>\n",
              "      <td>1468.835461</td>\n",
              "      <td>919.112014</td>\n",
              "      <td>681.773360</td>\n",
              "      <td>560.560360</td>\n",
              "      <td>560.628265</td>\n",
              "      <td>-9.334010</td>\n",
              "      <td>2.398433</td>\n",
              "      <td>72.891759</td>\n",
              "    </tr>\n",
              "    <tr>\n",
              "      <th>std</th>\n",
              "      <td>106.210585</td>\n",
              "      <td>645.883499</td>\n",
              "      <td>434.358154</td>\n",
              "      <td>358.399365</td>\n",
              "      <td>357.300076</td>\n",
              "      <td>74.863682</td>\n",
              "      <td>14.445252</td>\n",
              "      <td>37.003019</td>\n",
              "    </tr>\n",
              "    <tr>\n",
              "      <th>min</th>\n",
              "      <td>1322.000000</td>\n",
              "      <td>0.000000</td>\n",
              "      <td>0.000000</td>\n",
              "      <td>80.000000</td>\n",
              "      <td>80.000000</td>\n",
              "      <td>-190.000000</td>\n",
              "      <td>-45.000000</td>\n",
              "      <td>5.000000</td>\n",
              "    </tr>\n",
              "    <tr>\n",
              "      <th>25%</th>\n",
              "      <td>1388.000000</td>\n",
              "      <td>465.250000</td>\n",
              "      <td>331.000000</td>\n",
              "      <td>312.000000</td>\n",
              "      <td>312.000000</td>\n",
              "      <td>-80.000000</td>\n",
              "      <td>0.000000</td>\n",
              "      <td>45.000000</td>\n",
              "    </tr>\n",
              "    <tr>\n",
              "      <th>50%</th>\n",
              "      <td>1451.500000</td>\n",
              "      <td>808.500000</td>\n",
              "      <td>648.000000</td>\n",
              "      <td>466.000000</td>\n",
              "      <td>472.000000</td>\n",
              "      <td>-5.000000</td>\n",
              "      <td>0.000000</td>\n",
              "      <td>71.000000</td>\n",
              "    </tr>\n",
              "    <tr>\n",
              "      <th>75%</th>\n",
              "      <td>1538.000000</td>\n",
              "      <td>1300.000000</td>\n",
              "      <td>976.000000</td>\n",
              "      <td>691.250000</td>\n",
              "      <td>694.000000</td>\n",
              "      <td>5.000000</td>\n",
              "      <td>0.000000</td>\n",
              "      <td>97.000000</td>\n",
              "    </tr>\n",
              "    <tr>\n",
              "      <th>max</th>\n",
              "      <td>1743.000000</td>\n",
              "      <td>8721.000000</td>\n",
              "      <td>2226.000000</td>\n",
              "      <td>3130.000000</td>\n",
              "      <td>3104.000000</td>\n",
              "      <td>365.000000</td>\n",
              "      <td>45.000000</td>\n",
              "      <td>210.000000</td>\n",
              "    </tr>\n",
              "  </tbody>\n",
              "</table>\n",
              "</div>"
            ],
            "text/plain": [
              "           face_id            x            y           dx           dy  \\\n",
              "count  3446.000000  3446.000000  3446.000000  3446.000000  3446.000000   \n",
              "mean   1468.835461   919.112014   681.773360   560.560360   560.628265   \n",
              "std     106.210585   645.883499   434.358154   358.399365   357.300076   \n",
              "min    1322.000000     0.000000     0.000000    80.000000    80.000000   \n",
              "25%    1388.000000   465.250000   331.000000   312.000000   312.000000   \n",
              "50%    1451.500000   808.500000   648.000000   466.000000   472.000000   \n",
              "75%    1538.000000  1300.000000   976.000000   691.250000   694.000000   \n",
              "max    1743.000000  8721.000000  2226.000000  3130.000000  3104.000000   \n",
              "\n",
              "          tilt_ang  fiducial_yaw_angle  fiducial_score  \n",
              "count  3446.000000         3446.000000     3446.000000  \n",
              "mean     -9.334010            2.398433       72.891759  \n",
              "std      74.863682           14.445252       37.003019  \n",
              "min    -190.000000          -45.000000        5.000000  \n",
              "25%     -80.000000            0.000000       45.000000  \n",
              "50%      -5.000000            0.000000       71.000000  \n",
              "75%       5.000000            0.000000       97.000000  \n",
              "max     365.000000           45.000000      210.000000  "
            ]
          },
          "metadata": {
            "tags": []
          },
          "execution_count": 6
        }
      ]
    },
    {
      "cell_type": "code",
      "metadata": {
        "execution": {
          "iopub.execute_input": "2021-01-26T00:00:48.454205Z",
          "iopub.status.busy": "2021-01-26T00:00:48.453166Z",
          "iopub.status.idle": "2021-01-26T00:00:48.458260Z",
          "shell.execute_reply": "2021-01-26T00:00:48.457419Z"
        },
        "papermill": {
          "duration": 0.071675,
          "end_time": "2021-01-26T00:00:48.458385",
          "exception": false,
          "start_time": "2021-01-26T00:00:48.386710",
          "status": "completed"
        },
        "tags": [],
        "id": "lDvYmiXikEJ0",
        "outputId": "4a5903f6-741e-4044-8ef4-541a6621675f"
      },
      "source": [
        "#data types\n",
        "total_data.dtypes\n",
        "#total_data.info()"
      ],
      "execution_count": null,
      "outputs": [
        {
          "output_type": "execute_result",
          "data": {
            "text/plain": [
              "user_id               object\n",
              "original_image        object\n",
              "face_id                int64\n",
              "age                   object\n",
              "gender                object\n",
              "x                      int64\n",
              "y                      int64\n",
              "dx                     int64\n",
              "dy                     int64\n",
              "tilt_ang               int64\n",
              "fiducial_yaw_angle     int64\n",
              "fiducial_score         int64\n",
              "dtype: object"
            ]
          },
          "metadata": {
            "tags": []
          },
          "execution_count": 7
        }
      ]
    },
    {
      "cell_type": "markdown",
      "metadata": {
        "papermill": {
          "duration": 0.064323,
          "end_time": "2021-01-26T00:00:48.581520",
          "exception": false,
          "start_time": "2021-01-26T00:00:48.517197",
          "status": "completed"
        },
        "tags": [],
        "id": "1tGIqjrKkEJ0"
      },
      "source": [
        "# Data visualization"
      ]
    },
    {
      "cell_type": "code",
      "metadata": {
        "execution": {
          "iopub.execute_input": "2021-01-26T00:00:48.707906Z",
          "iopub.status.busy": "2021-01-26T00:00:48.707084Z",
          "iopub.status.idle": "2021-01-26T00:00:48.867135Z",
          "shell.execute_reply": "2021-01-26T00:00:48.867654Z"
        },
        "papermill": {
          "duration": 0.226467,
          "end_time": "2021-01-26T00:00:48.867814",
          "exception": false,
          "start_time": "2021-01-26T00:00:48.641347",
          "status": "completed"
        },
        "tags": [],
        "id": "JXVAcRN9kEJ1",
        "outputId": "2c9dd561-5b8f-4334-945f-e73c02433e51"
      },
      "source": [
        "#pie_graph to present gender\n",
        "plt.figure(1, figsize=(8,8))\n",
        "total_data.gender.value_counts().plot.pie(autopct=\"%1.1f%%\")\n",
        "plt.show()\n",
        "total_data.gender.value_counts()"
      ],
      "execution_count": null,
      "outputs": [
        {
          "output_type": "display_data",
          "data": {
            "image/png": "[encoded data removed]",
            "text/plain": [
              "<Figure size 576x576 with 1 Axes>"
            ]
          },
          "metadata": {
            "tags": []
          }
        },
        {
          "output_type": "execute_result",
          "data": {
            "text/plain": [
              "f    9372\n",
              "m    8120\n",
              "u    1099\n",
              "Name: gender, dtype: int64"
            ]
          },
          "metadata": {
            "tags": []
          },
          "execution_count": 8
        }
      ]
    },
    {
      "cell_type": "code",
      "metadata": {
        "execution": {
          "iopub.execute_input": "2021-01-26T00:00:48.969383Z",
          "iopub.status.busy": "2021-01-26T00:00:48.958169Z",
          "iopub.status.idle": "2021-01-26T00:00:49.237458Z",
          "shell.execute_reply": "2021-01-26T00:00:49.236895Z"
        },
        "papermill": {
          "duration": 0.327988,
          "end_time": "2021-01-26T00:00:49.237568",
          "exception": false,
          "start_time": "2021-01-26T00:00:48.909580",
          "status": "completed"
        },
        "tags": [],
        "id": "aKFLcGN_kEJ1",
        "outputId": "f44f00bf-5ef0-4247-9edd-960510faabf0"
      },
      "source": [
        "#bar chart to present age\n",
        "\n",
        "age = ['(25, 32)' , '(0, 2)', '(38, 43)' ,'(4, 6) ','(8, 12)','(15, 20)','(60, 100)','(48, 53)' ,'None','35','13','22','34','23' ,'45','(27, 32)','55','36','(38, 42)','57','3','29','(38, 48)','58','2','32','56','(8, 23)','46','42']\n",
        "\n",
        "plt.figure(figsize=(15, 5))  # width:20, height:3\n",
        "plt.bar(age, total_data.age.value_counts(), align='center', alpha=0.8)\n",
        "plt.ylabel('count')\n",
        "plt.show()\n",
        "#to Create horizontal bar plot here \"plt.barh(labels, values)\"\n",
        "\n",
        "total_data.age.value_counts()"
      ],
      "execution_count": null,
      "outputs": [
        {
          "output_type": "display_data",
          "data": {
            "image/png": "[encoded data removed]",
            "text/plain": [
              "<Figure size 1080x360 with 1 Axes>"
            ]
          },
          "metadata": {
            "tags": [],
            "needs_background": "light"
          }
        },
        {
          "output_type": "execute_result",
          "data": {
            "text/plain": [
              "(25, 32)     5004\n",
              "(0, 2)       2488\n",
              "(38, 43)     2293\n",
              "(4, 6)       2140\n",
              "(8, 12)      2124\n",
              "(15, 20)     1642\n",
              "(60, 100)     872\n",
              "(48, 53)      830\n",
              "None          748\n",
              "35            293\n",
              "13            168\n",
              "22            149\n",
              "34            105\n",
              "23             96\n",
              "45             88\n",
              "(27, 32)       77\n",
              "55             76\n",
              "36             56\n",
              "(38, 42)       46\n",
              "57             24\n",
              "3              18\n",
              "29             11\n",
              "(38, 48)        6\n",
              "58              5\n",
              "2               3\n",
              "32              3\n",
              "56              2\n",
              "(8, 23)         1\n",
              "46              1\n",
              "42              1\n",
              "Name: age, dtype: int64"
            ]
          },
          "metadata": {
            "tags": []
          },
          "execution_count": 9
        }
      ]
    },
    {
      "cell_type": "code",
      "metadata": {
        "execution": {
          "iopub.execute_input": "2021-01-26T00:00:49.331229Z",
          "iopub.status.busy": "2021-01-26T00:00:49.330153Z",
          "iopub.status.idle": "2021-01-26T00:00:49.589597Z",
          "shell.execute_reply": "2021-01-26T00:00:49.590107Z"
        },
        "papermill": {
          "duration": 0.310286,
          "end_time": "2021-01-26T00:00:49.590268",
          "exception": false,
          "start_time": "2021-01-26T00:00:49.279982",
          "status": "completed"
        },
        "tags": [],
        "id": "JquRCYZ_kEJ2",
        "outputId": "9f9880fb-8222-4968-a1b1-c7fe9363a97f"
      },
      "source": [
        "#present image from the dataset\n",
        "path = \"/kaggle/input/adience-benchmark-gender-and-age-classification/AdienceBenchmarkGenderAndAgeClassification/faces/\"+total_data.user_id.loc[8]+\"/coarse_tilt_aligned_face.\"+str(total_data.face_id.loc[8])+\".\"+total_data.original_image.loc[8]\n",
        "img = load_img(path)\n",
        "plt.imshow(img)\n",
        "plt.show()"
      ],
      "execution_count": null,
      "outputs": [
        {
          "output_type": "display_data",
          "data": {
            "image/png": "[encoded data removed]",
            "text/plain": [
              "<Figure size 432x288 with 1 Axes>"
            ]
          },
          "metadata": {
            "tags": [],
            "needs_background": "light"
          }
        }
      ]
    },
    {
      "cell_type": "markdown",
      "metadata": {
        "papermill": {
          "duration": 0.065078,
          "end_time": "2021-01-26T00:00:49.721455",
          "exception": false,
          "start_time": "2021-01-26T00:00:49.656377",
          "status": "completed"
        },
        "tags": [],
        "id": "tYkeIGTNkEJ2"
      },
      "source": [
        "# Generate dataframe"
      ]
    },
    {
      "cell_type": "code",
      "metadata": {
        "execution": {
          "iopub.execute_input": "2021-01-26T00:00:49.855955Z",
          "iopub.status.busy": "2021-01-26T00:00:49.855132Z",
          "iopub.status.idle": "2021-01-26T00:00:49.862029Z",
          "shell.execute_reply": "2021-01-26T00:00:49.862859Z"
        },
        "papermill": {
          "duration": 0.07639,
          "end_time": "2021-01-26T00:00:49.863030",
          "exception": false,
          "start_time": "2021-01-26T00:00:49.786640",
          "status": "completed"
        },
        "tags": [],
        "id": "zhvvboe5kEJ3"
      },
      "source": [
        "df = total_data[['age', 'gender', 'x', 'y', 'dx', 'dy']].copy()"
      ],
      "execution_count": null,
      "outputs": []
    },
    {
      "cell_type": "code",
      "metadata": {
        "execution": {
          "iopub.execute_input": "2021-01-26T00:00:49.998002Z",
          "iopub.status.busy": "2021-01-26T00:00:49.997162Z",
          "iopub.status.idle": "2021-01-26T00:00:52.457426Z",
          "shell.execute_reply": "2021-01-26T00:00:52.456642Z"
        },
        "papermill": {
          "duration": 2.529094,
          "end_time": "2021-01-26T00:00:52.457571",
          "exception": false,
          "start_time": "2021-01-26T00:00:49.928477",
          "status": "completed"
        },
        "tags": [],
        "id": "zop29bEbkEJ3"
      },
      "source": [
        "img_path = []\n",
        "for row in total_data.iterrows():\n",
        "    path = \"/kaggle/input/adience-benchmark-gender-and-age-classification/AdienceBenchmarkGenderAndAgeClassification/faces/\"+row[1].user_id+\"/coarse_tilt_aligned_face.\"+str(row[1].face_id)+\".\"+row[1].original_image\n",
        "    img_path.append(path)\n",
        "\n",
        "df['img_path'] = img_path"
      ],
      "execution_count": null,
      "outputs": []
    },
    {
      "cell_type": "code",
      "metadata": {
        "execution": {
          "iopub.execute_input": "2021-01-26T00:00:52.603134Z",
          "iopub.status.busy": "2021-01-26T00:00:52.602467Z",
          "iopub.status.idle": "2021-01-26T00:00:52.609200Z",
          "shell.execute_reply": "2021-01-26T00:00:52.608506Z"
        },
        "papermill": {
          "duration": 0.085064,
          "end_time": "2021-01-26T00:00:52.609313",
          "exception": false,
          "start_time": "2021-01-26T00:00:52.524249",
          "status": "completed"
        },
        "tags": [],
        "id": "yG4nyjw6kEJ3",
        "outputId": "8dfe62e2-4174-4e3a-a8cf-15e90cf47a54"
      },
      "source": [
        "#present data befor\n",
        "df.head()"
      ],
      "execution_count": null,
      "outputs": [
        {
          "output_type": "execute_result",
          "data": {
            "text/html": [
              "<div>\n",
              "<style scoped>\n",
              "    .dataframe tbody tr th:only-of-type {\n",
              "        vertical-align: middle;\n",
              "    }\n",
              "\n",
              "    .dataframe tbody tr th {\n",
              "        vertical-align: top;\n",
              "    }\n",
              "\n",
              "    .dataframe thead th {\n",
              "        text-align: right;\n",
              "    }\n",
              "</style>\n",
              "<table border=\"1\" class=\"dataframe\">\n",
              "  <thead>\n",
              "    <tr style=\"text-align: right;\">\n",
              "      <th></th>\n",
              "      <th>age</th>\n",
              "      <th>gender</th>\n",
              "      <th>x</th>\n",
              "      <th>y</th>\n",
              "      <th>dx</th>\n",
              "      <th>dy</th>\n",
              "      <th>img_path</th>\n",
              "    </tr>\n",
              "  </thead>\n",
              "  <tbody>\n",
              "    <tr>\n",
              "      <th>0</th>\n",
              "      <td>(25, 32)</td>\n",
              "      <td>m</td>\n",
              "      <td>1102</td>\n",
              "      <td>296</td>\n",
              "      <td>357</td>\n",
              "      <td>357</td>\n",
              "      <td>/kaggle/input/adience-benchmark-gender-and-age...</td>\n",
              "    </tr>\n",
              "    <tr>\n",
              "      <th>1</th>\n",
              "      <td>(25, 32)</td>\n",
              "      <td>f</td>\n",
              "      <td>1713</td>\n",
              "      <td>580</td>\n",
              "      <td>325</td>\n",
              "      <td>325</td>\n",
              "      <td>/kaggle/input/adience-benchmark-gender-and-age...</td>\n",
              "    </tr>\n",
              "    <tr>\n",
              "      <th>2</th>\n",
              "      <td>(15, 20)</td>\n",
              "      <td>f</td>\n",
              "      <td>1437</td>\n",
              "      <td>664</td>\n",
              "      <td>306</td>\n",
              "      <td>306</td>\n",
              "      <td>/kaggle/input/adience-benchmark-gender-and-age...</td>\n",
              "    </tr>\n",
              "    <tr>\n",
              "      <th>3</th>\n",
              "      <td>(25, 32)</td>\n",
              "      <td>f</td>\n",
              "      <td>978</td>\n",
              "      <td>229</td>\n",
              "      <td>803</td>\n",
              "      <td>803</td>\n",
              "      <td>/kaggle/input/adience-benchmark-gender-and-age...</td>\n",
              "    </tr>\n",
              "    <tr>\n",
              "      <th>4</th>\n",
              "      <td>(25, 32)</td>\n",
              "      <td>m</td>\n",
              "      <td>1745</td>\n",
              "      <td>910</td>\n",
              "      <td>242</td>\n",
              "      <td>242</td>\n",
              "      <td>/kaggle/input/adience-benchmark-gender-and-age...</td>\n",
              "    </tr>\n",
              "  </tbody>\n",
              "</table>\n",
              "</div>"
            ],
            "text/plain": [
              "        age gender     x    y   dx   dy  \\\n",
              "0  (25, 32)      m  1102  296  357  357   \n",
              "1  (25, 32)      f  1713  580  325  325   \n",
              "2  (15, 20)      f  1437  664  306  306   \n",
              "3  (25, 32)      f   978  229  803  803   \n",
              "4  (25, 32)      m  1745  910  242  242   \n",
              "\n",
              "                                            img_path  \n",
              "0  /kaggle/input/adience-benchmark-gender-and-age...  \n",
              "1  /kaggle/input/adience-benchmark-gender-and-age...  \n",
              "2  /kaggle/input/adience-benchmark-gender-and-age...  \n",
              "3  /kaggle/input/adience-benchmark-gender-and-age...  \n",
              "4  /kaggle/input/adience-benchmark-gender-and-age...  "
            ]
          },
          "metadata": {
            "tags": []
          },
          "execution_count": 13
        }
      ]
    },
    {
      "cell_type": "code",
      "metadata": {
        "execution": {
          "iopub.execute_input": "2021-01-26T00:00:52.705497Z",
          "iopub.status.busy": "2021-01-26T00:00:52.704898Z",
          "iopub.status.idle": "2021-01-26T00:00:52.722510Z",
          "shell.execute_reply": "2021-01-26T00:00:52.721743Z"
        },
        "papermill": {
          "duration": 0.067872,
          "end_time": "2021-01-26T00:00:52.722640",
          "exception": false,
          "start_time": "2021-01-26T00:00:52.654768",
          "status": "completed"
        },
        "tags": [],
        "id": "QqvrfC_8kEJ4",
        "outputId": "065cf971-9f5e-4142-8ba4-360e6c621364"
      },
      "source": [
        "#correlation\n",
        "corr = df.corr()\n",
        "corr"
      ],
      "execution_count": null,
      "outputs": [
        {
          "output_type": "execute_result",
          "data": {
            "text/html": [
              "<div>\n",
              "<style scoped>\n",
              "    .dataframe tbody tr th:only-of-type {\n",
              "        vertical-align: middle;\n",
              "    }\n",
              "\n",
              "    .dataframe tbody tr th {\n",
              "        vertical-align: top;\n",
              "    }\n",
              "\n",
              "    .dataframe thead th {\n",
              "        text-align: right;\n",
              "    }\n",
              "</style>\n",
              "<table border=\"1\" class=\"dataframe\">\n",
              "  <thead>\n",
              "    <tr style=\"text-align: right;\">\n",
              "      <th></th>\n",
              "      <th>x</th>\n",
              "      <th>y</th>\n",
              "      <th>dx</th>\n",
              "      <th>dy</th>\n",
              "    </tr>\n",
              "  </thead>\n",
              "  <tbody>\n",
              "    <tr>\n",
              "      <th>x</th>\n",
              "      <td>1.000000</td>\n",
              "      <td>0.343700</td>\n",
              "      <td>-0.279544</td>\n",
              "      <td>-0.280495</td>\n",
              "    </tr>\n",
              "    <tr>\n",
              "      <th>y</th>\n",
              "      <td>0.343700</td>\n",
              "      <td>1.000000</td>\n",
              "      <td>-0.296527</td>\n",
              "      <td>-0.293110</td>\n",
              "    </tr>\n",
              "    <tr>\n",
              "      <th>dx</th>\n",
              "      <td>-0.279544</td>\n",
              "      <td>-0.296527</td>\n",
              "      <td>1.000000</td>\n",
              "      <td>0.991960</td>\n",
              "    </tr>\n",
              "    <tr>\n",
              "      <th>dy</th>\n",
              "      <td>-0.280495</td>\n",
              "      <td>-0.293110</td>\n",
              "      <td>0.991960</td>\n",
              "      <td>1.000000</td>\n",
              "    </tr>\n",
              "  </tbody>\n",
              "</table>\n",
              "</div>"
            ],
            "text/plain": [
              "           x         y        dx        dy\n",
              "x   1.000000  0.343700 -0.279544 -0.280495\n",
              "y   0.343700  1.000000 -0.296527 -0.293110\n",
              "dx -0.279544 -0.296527  1.000000  0.991960\n",
              "dy -0.280495 -0.293110  0.991960  1.000000"
            ]
          },
          "metadata": {
            "tags": []
          },
          "execution_count": 14
        }
      ]
    },
    {
      "cell_type": "code",
      "metadata": {
        "execution": {
          "iopub.execute_input": "2021-01-26T00:00:52.863482Z",
          "iopub.status.busy": "2021-01-26T00:00:52.862577Z",
          "iopub.status.idle": "2021-01-26T00:00:53.056194Z",
          "shell.execute_reply": "2021-01-26T00:00:53.055288Z"
        },
        "papermill": {
          "duration": 0.265253,
          "end_time": "2021-01-26T00:00:53.056326",
          "exception": false,
          "start_time": "2021-01-26T00:00:52.791073",
          "status": "completed"
        },
        "tags": [],
        "id": "Sb5CqVimkEJ4",
        "outputId": "b69f71ea-7fe7-40a3-b2b6-17934e798bfd"
      },
      "source": [
        "#heatmap\n",
        "sns.heatmap(corr)"
      ],
      "execution_count": null,
      "outputs": [
        {
          "output_type": "execute_result",
          "data": {
            "text/plain": [
              "<matplotlib.axes._subplots.AxesSubplot at 0x7ff454c0c810>"
            ]
          },
          "metadata": {
            "tags": []
          },
          "execution_count": 15
        },
        {
          "output_type": "display_data",
          "data": {
            "image/png": "[encoded data removed]",
            "text/plain": [
              "<Figure size 432x288 with 2 Axes>"
            ]
          },
          "metadata": {
            "tags": [],
            "needs_background": "light"
          }
        }
      ]
    },
    {
      "cell_type": "markdown",
      "metadata": {
        "papermill": {
          "duration": 0.069614,
          "end_time": "2021-01-26T00:00:53.195936",
          "exception": false,
          "start_time": "2021-01-26T00:00:53.126322",
          "status": "completed"
        },
        "tags": [],
        "id": "iK5wNJazkEJ5"
      },
      "source": [
        "# Mapping age label and drop irrelevant data"
      ]
    },
    {
      "cell_type": "code",
      "metadata": {
        "execution": {
          "iopub.execute_input": "2021-01-26T00:00:53.352128Z",
          "iopub.status.busy": "2021-01-26T00:00:53.347044Z",
          "iopub.status.idle": "2021-01-26T00:00:57.959660Z",
          "shell.execute_reply": "2021-01-26T00:00:57.957813Z"
        },
        "papermill": {
          "duration": 4.693268,
          "end_time": "2021-01-26T00:00:57.959923",
          "exception": false,
          "start_time": "2021-01-26T00:00:53.266655",
          "status": "completed"
        },
        "tags": [],
        "id": "YrUyPKJ6kEJ5",
        "outputId": "bf378fdc-fe65-481d-a3e4-13cef02a914a"
      },
      "source": [
        "#mapping ages\n",
        "age_mapping = [('(0, 2)', '0-2'), ('2', '0-2'), ('3', '0-2'), ('(4, 6)', '4-6'), ('(8, 12)', '8-13'), ('13', '8-13'), ('22', '15-20'), ('(8, 23)','15-20'), ('23', '25-32'), ('(15, 20)', '15-20'), ('(25, 32)', '25-32'), ('(27, 32)', '25-32'), ('32', '25-32'), ('34', '25-32'), ('29', '25-32'), ('(38, 42)', '38-43'), ('35', '38-43'), ('36', '38-43'), ('42', '48-53'), ('45', '38-43'), ('(38, 43)', '38-43'), ('(38, 42)', '38-43'), ('(38, 48)', '48-53'), ('46', '48-53'), ('(48, 53)', '48-53'), ('55', '48-53'), ('56', '48-53'), ('(60, 100)', '60+'), ('57', '60+'), ('58', '60+')]\n",
        "\n",
        "age_mapping_dict = {each[0]: each[1] for each in age_mapping}\n",
        "drop_labels = []\n",
        "for idx, each in enumerate(df.age):\n",
        "    if each == 'None':\n",
        "        drop_labels.append(idx)\n",
        "    else:\n",
        "        df.age.loc[idx] = age_mapping_dict[each]\n",
        "\n",
        "        \n",
        "#drop none values in age        \n",
        "df = df.drop(labels=drop_labels, axis=0) #droped None values\n",
        "#df.age.value_counts(dropna=False)\n",
        "\n",
        "\n",
        "#drop none gender values(u)  \n",
        "df = df.dropna()\n",
        "unbiased_data = df[df.gender != 'u'].copy()\n",
        "#unbiased_data.info()"
      ],
      "execution_count": null,
      "outputs": [
        {
          "output_type": "stream",
          "text": [
            "/opt/conda/lib/python3.7/site-packages/pandas/core/indexing.py:670: SettingWithCopyWarning: \n",
            "A value is trying to be set on a copy of a slice from a DataFrame\n",
            "\n",
            "See the caveats in the documentation: https://pandas.pydata.org/pandas-docs/stable/user_guide/indexing.html#returning-a-view-versus-a-copy\n",
            "  iloc._setitem_with_indexer(indexer, value)\n"
          ],
          "name": "stderr"
        }
      ]
    },
    {
      "cell_type": "markdown",
      "metadata": {
        "papermill": {
          "duration": 0.049127,
          "end_time": "2021-01-26T00:00:58.099831",
          "exception": false,
          "start_time": "2021-01-26T00:00:58.050704",
          "status": "completed"
        },
        "tags": [],
        "id": "xsza3tQEkEJ6"
      },
      "source": [
        "# Labelling Age and Gender "
      ]
    },
    {
      "cell_type": "code",
      "metadata": {
        "execution": {
          "iopub.execute_input": "2021-01-26T00:00:58.205518Z",
          "iopub.status.busy": "2021-01-26T00:00:58.204695Z",
          "iopub.status.idle": "2021-01-26T00:00:58.209268Z",
          "shell.execute_reply": "2021-01-26T00:00:58.208697Z"
        },
        "papermill": {
          "duration": 0.06089,
          "end_time": "2021-01-26T00:00:58.209381",
          "exception": false,
          "start_time": "2021-01-26T00:00:58.148491",
          "status": "completed"
        },
        "tags": [],
        "id": "sYqDb8xjkEJ6"
      },
      "source": [
        "#labeling gender\n",
        "gender_to_label_map = {\n",
        "    'f' : 0,\n",
        "    'm' : 1\n",
        "}\n",
        "\n",
        "#labeling age\n",
        "age_to_label_map = {\n",
        "    '0-2'  :0,\n",
        "    '4-6'  :1,\n",
        "    '8-13' :2,\n",
        "    '15-20':3,\n",
        "    '25-32':4,\n",
        "    '38-43':5,\n",
        "    '48-53':6,\n",
        "    '60+'  :7\n",
        "}\n",
        "\n",
        "label_to_age_map = {value: key for key, value in age_to_label_map.items()}\n",
        "label_to_gender_map = {value: key for key, value in gender_to_label_map.items()}"
      ],
      "execution_count": null,
      "outputs": []
    },
    {
      "cell_type": "code",
      "metadata": {
        "execution": {
          "iopub.execute_input": "2021-01-26T00:00:58.339698Z",
          "iopub.status.busy": "2021-01-26T00:00:58.321518Z",
          "iopub.status.idle": "2021-01-26T00:00:58.345083Z",
          "shell.execute_reply": "2021-01-26T00:00:58.344488Z"
        },
        "papermill": {
          "duration": 0.086988,
          "end_time": "2021-01-26T00:00:58.345223",
          "exception": false,
          "start_time": "2021-01-26T00:00:58.258235",
          "status": "completed"
        },
        "tags": [],
        "id": "CYQGfbWFkEJ6",
        "outputId": "54f6ee4a-7e08-420d-e304-09a26012c6cd"
      },
      "source": [
        "#change age and gender to labels\n",
        "unbiased_data['age'] = unbiased_data['age'].apply(lambda age: age_to_label_map[age])\n",
        "unbiased_data['gender'] = unbiased_data['gender'].apply(lambda g: gender_to_label_map[g])\n",
        "\n",
        "unbiased_data.head()"
      ],
      "execution_count": null,
      "outputs": [
        {
          "output_type": "execute_result",
          "data": {
            "text/html": [
              "<div>\n",
              "<style scoped>\n",
              "    .dataframe tbody tr th:only-of-type {\n",
              "        vertical-align: middle;\n",
              "    }\n",
              "\n",
              "    .dataframe tbody tr th {\n",
              "        vertical-align: top;\n",
              "    }\n",
              "\n",
              "    .dataframe thead th {\n",
              "        text-align: right;\n",
              "    }\n",
              "</style>\n",
              "<table border=\"1\" class=\"dataframe\">\n",
              "  <thead>\n",
              "    <tr style=\"text-align: right;\">\n",
              "      <th></th>\n",
              "      <th>age</th>\n",
              "      <th>gender</th>\n",
              "      <th>x</th>\n",
              "      <th>y</th>\n",
              "      <th>dx</th>\n",
              "      <th>dy</th>\n",
              "      <th>img_path</th>\n",
              "    </tr>\n",
              "  </thead>\n",
              "  <tbody>\n",
              "    <tr>\n",
              "      <th>0</th>\n",
              "      <td>4</td>\n",
              "      <td>1</td>\n",
              "      <td>1102</td>\n",
              "      <td>296</td>\n",
              "      <td>357</td>\n",
              "      <td>357</td>\n",
              "      <td>/kaggle/input/adience-benchmark-gender-and-age...</td>\n",
              "    </tr>\n",
              "    <tr>\n",
              "      <th>1</th>\n",
              "      <td>4</td>\n",
              "      <td>0</td>\n",
              "      <td>1713</td>\n",
              "      <td>580</td>\n",
              "      <td>325</td>\n",
              "      <td>325</td>\n",
              "      <td>/kaggle/input/adience-benchmark-gender-and-age...</td>\n",
              "    </tr>\n",
              "    <tr>\n",
              "      <th>2</th>\n",
              "      <td>3</td>\n",
              "      <td>0</td>\n",
              "      <td>1437</td>\n",
              "      <td>664</td>\n",
              "      <td>306</td>\n",
              "      <td>306</td>\n",
              "      <td>/kaggle/input/adience-benchmark-gender-and-age...</td>\n",
              "    </tr>\n",
              "    <tr>\n",
              "      <th>3</th>\n",
              "      <td>4</td>\n",
              "      <td>0</td>\n",
              "      <td>978</td>\n",
              "      <td>229</td>\n",
              "      <td>803</td>\n",
              "      <td>803</td>\n",
              "      <td>/kaggle/input/adience-benchmark-gender-and-age...</td>\n",
              "    </tr>\n",
              "    <tr>\n",
              "      <th>4</th>\n",
              "      <td>4</td>\n",
              "      <td>1</td>\n",
              "      <td>1745</td>\n",
              "      <td>910</td>\n",
              "      <td>242</td>\n",
              "      <td>242</td>\n",
              "      <td>/kaggle/input/adience-benchmark-gender-and-age...</td>\n",
              "    </tr>\n",
              "  </tbody>\n",
              "</table>\n",
              "</div>"
            ],
            "text/plain": [
              "   age  gender     x    y   dx   dy  \\\n",
              "0    4       1  1102  296  357  357   \n",
              "1    4       0  1713  580  325  325   \n",
              "2    3       0  1437  664  306  306   \n",
              "3    4       0   978  229  803  803   \n",
              "4    4       1  1745  910  242  242   \n",
              "\n",
              "                                            img_path  \n",
              "0  /kaggle/input/adience-benchmark-gender-and-age...  \n",
              "1  /kaggle/input/adience-benchmark-gender-and-age...  \n",
              "2  /kaggle/input/adience-benchmark-gender-and-age...  \n",
              "3  /kaggle/input/adience-benchmark-gender-and-age...  \n",
              "4  /kaggle/input/adience-benchmark-gender-and-age...  "
            ]
          },
          "metadata": {
            "tags": []
          },
          "execution_count": 18
        }
      ]
    },
    {
      "cell_type": "markdown",
      "metadata": {
        "papermill": {
          "duration": 0.048022,
          "end_time": "2021-01-26T00:00:58.442260",
          "exception": false,
          "start_time": "2021-01-26T00:00:58.394238",
          "status": "completed"
        },
        "tags": [],
        "id": "bNxUXkYtkEJ7"
      },
      "source": [
        "# Plot random image with its size, gender and age  "
      ]
    },
    {
      "cell_type": "code",
      "metadata": {
        "execution": {
          "iopub.execute_input": "2021-01-26T00:00:58.549826Z",
          "iopub.status.busy": "2021-01-26T00:00:58.549162Z",
          "iopub.status.idle": "2021-01-26T00:00:58.843259Z",
          "shell.execute_reply": "2021-01-26T00:00:58.842706Z"
        },
        "papermill": {
          "duration": 0.353161,
          "end_time": "2021-01-26T00:00:58.843368",
          "exception": false,
          "start_time": "2021-01-26T00:00:58.490207",
          "status": "completed"
        },
        "tags": [],
        "id": "NVERJq_ukEJ7",
        "outputId": "8f09fedb-bcaa-47d6-a435-ea94bdcd0857"
      },
      "source": [
        "#to plot image\n",
        "def show_image(img_filename, age, gender):\n",
        "    img = Image.open(img_filename)\n",
        "    plt.imshow(img)\n",
        "    plt.title(f'size (w, h): {img.size}, age: {age}, gender: {gender}')\n",
        "    plt.show()\n",
        "    \n",
        "idx = np.random.randint(unbiased_data.shape[0])\n",
        "fname = unbiased_data['img_path'].iloc[idx]\n",
        "age = label_to_age_map[unbiased_data['age'][idx]]\n",
        "gender = label_to_gender_map[unbiased_data['gender'][idx]]\n",
        "show_image(fname, age, gender)"
      ],
      "execution_count": null,
      "outputs": [
        {
          "output_type": "display_data",
          "data": {
            "image/png": "[encoded data removed]",
            "text/plain": [
              "<Figure size 432x288 with 1 Axes>"
            ]
          },
          "metadata": {
            "tags": [],
            "needs_background": "light"
          }
        }
      ]
    },
    {
      "cell_type": "markdown",
      "metadata": {
        "papermill": {
          "duration": 0.051018,
          "end_time": "2021-01-26T00:00:58.947402",
          "exception": false,
          "start_time": "2021-01-26T00:00:58.896384",
          "status": "completed"
        },
        "tags": [],
        "id": "q84c33bjkEJ8"
      },
      "source": [
        "# Model"
      ]
    },
    {
      "cell_type": "markdown",
      "metadata": {
        "papermill": {
          "duration": 0.051793,
          "end_time": "2021-01-26T00:00:59.050294",
          "exception": false,
          "start_time": "2021-01-26T00:00:58.998501",
          "status": "completed"
        },
        "tags": [],
        "id": "Bb1pIJoMkEJ8"
      },
      "source": [
        "### Gender classification"
      ]
    },
    {
      "cell_type": "code",
      "metadata": {
        "execution": {
          "iopub.execute_input": "2021-01-26T00:00:59.166902Z",
          "iopub.status.busy": "2021-01-26T00:00:59.164240Z",
          "iopub.status.idle": "2021-01-26T00:00:59.298092Z",
          "shell.execute_reply": "2021-01-26T00:00:59.299194Z"
        },
        "papermill": {
          "duration": 0.197139,
          "end_time": "2021-01-26T00:00:59.299440",
          "exception": false,
          "start_time": "2021-01-26T00:00:59.102301",
          "status": "completed"
        },
        "tags": [],
        "id": "CtNjrRvekEJ8",
        "outputId": "89a24146-ee8d-4688-9571-80d6e6c1a9a5"
      },
      "source": [
        "#splitting dataset\n",
        "X = unbiased_data[['img_path']]\n",
        "y = unbiased_data[['gender']]\n",
        "from sklearn.model_selection import train_test_split\n",
        "X_train, X_test, y_train, y_test = train_test_split(X, y, test_size=0.3, random_state=42)\n",
        "\n",
        "print('Train data shape {}'.format(X_train.shape))\n",
        "print('Test data shape {}'.format(X_test.shape))"
      ],
      "execution_count": null,
      "outputs": [
        {
          "output_type": "stream",
          "text": [
            "Train data shape (12216, 1)\n",
            "Test data shape (5236, 1)\n"
          ],
          "name": "stdout"
        }
      ]
    },
    {
      "cell_type": "code",
      "metadata": {
        "execution": {
          "iopub.execute_input": "2021-01-26T00:00:59.460263Z",
          "iopub.status.busy": "2021-01-26T00:00:59.459225Z",
          "iopub.status.idle": "2021-01-26T00:05:21.151301Z",
          "shell.execute_reply": "2021-01-26T00:05:21.151673Z"
        },
        "papermill": {
          "duration": 261.776708,
          "end_time": "2021-01-26T00:05:21.151799",
          "exception": false,
          "start_time": "2021-01-26T00:00:59.375091",
          "status": "completed"
        },
        "tags": [],
        "id": "BBk0khfDkEJ8",
        "outputId": "707be710-1c63-46d6-8792-ba973f9f1e2d"
      },
      "source": [
        "train_images = []\n",
        "test_images = []\n",
        "\n",
        "for row in X_train.iterrows():\n",
        "    image = Image.open(row[1].img_path)\n",
        "    image = image.resize((227, 227))   # Resize the image\n",
        "    data = np.asarray(image)\n",
        "    train_images.append(data)\n",
        "\n",
        "for row in X_test.iterrows():\n",
        "    image = Image.open(row[1].img_path)\n",
        "    image = image.resize((227, 227))  # Resize the image\n",
        "    data = np.asarray(image)\n",
        "    test_images.append(data)\n",
        "\n",
        "train_images = np.asarray(train_images)\n",
        "test_images = np.asarray(test_images)\n",
        "\n",
        "print('Train images shape {}'.format(train_images.shape))\n",
        "print('Test images shape {}'.format(test_images.shape))"
      ],
      "execution_count": null,
      "outputs": [
        {
          "output_type": "stream",
          "text": [
            "Train images shape (12216, 227, 227, 3)\n",
            "Test images shape (5236, 227, 227, 3)\n"
          ],
          "name": "stdout"
        }
      ]
    },
    {
      "cell_type": "code",
      "metadata": {
        "execution": {
          "iopub.execute_input": "2021-01-26T00:05:21.266323Z",
          "iopub.status.busy": "2021-01-26T00:05:21.265562Z",
          "iopub.status.idle": "2021-01-26T00:05:21.692228Z",
          "shell.execute_reply": "2021-01-26T00:05:21.692806Z"
        },
        "papermill": {
          "duration": 0.492681,
          "end_time": "2021-01-26T00:05:21.692947",
          "exception": false,
          "start_time": "2021-01-26T00:05:21.200266",
          "status": "completed"
        },
        "tags": [],
        "id": "HrmIiy8dkEJ9"
      },
      "source": [
        "model = Sequential()\n",
        "model.add(Conv2D(input_shape=(227, 227, 3), filters=96, kernel_size=(7, 7), strides=(2, 2), padding='valid', activation='relu'))\n",
        "model.add(MaxPooling2D(pool_size=(2,2),strides=(2,2)))\n",
        "model.add(LayerNormalization())\n",
        "model.add(Conv2D(filters=256, kernel_size=(5, 5), strides=1, padding='same', activation='relu'))\n",
        "model.add(MaxPooling2D(pool_size=(2,2),strides=(2,2)))\n",
        "model.add(LayerNormalization())\n",
        "model.add(Conv2D(filters=256, kernel_size=(3, 3), strides=1, padding='same', activation='relu'))\n",
        "model.add(MaxPooling2D(pool_size=(2,2),strides=(2,2)))\n",
        "model.add(LayerNormalization())\n",
        "\n",
        "model.add(Flatten())\n",
        "model.add(Dense(units=512, activation='relu'))\n",
        "model.add(Dropout(rate=0.25))\n",
        "model.add(Dense(units=512, activation='relu'))\n",
        "model.add(Dropout(rate=0.25))\n",
        "model.add(Dense(units=2, activation='softmax'))"
      ],
      "execution_count": null,
      "outputs": []
    },
    {
      "cell_type": "code",
      "metadata": {
        "execution": {
          "iopub.execute_input": "2021-01-26T00:05:21.810269Z",
          "iopub.status.busy": "2021-01-26T00:05:21.809516Z",
          "iopub.status.idle": "2021-01-26T00:05:21.821154Z",
          "shell.execute_reply": "2021-01-26T00:05:21.820529Z"
        },
        "papermill": {
          "duration": 0.075588,
          "end_time": "2021-01-26T00:05:21.821262",
          "exception": false,
          "start_time": "2021-01-26T00:05:21.745674",
          "status": "completed"
        },
        "tags": [],
        "id": "79XmA0qDkEJ9",
        "outputId": "d529c6d4-99d2-4450-bf36-c8f5b476b4d0"
      },
      "source": [
        "model.summary()"
      ],
      "execution_count": null,
      "outputs": [
        {
          "output_type": "stream",
          "text": [
            "Model: \"sequential\"\n",
            "_________________________________________________________________\n",
            "Layer (type)                 Output Shape              Param #   \n",
            "=================================================================\n",
            "conv2d (Conv2D)              (None, 111, 111, 96)      14208     \n",
            "_________________________________________________________________\n",
            "max_pooling2d (MaxPooling2D) (None, 55, 55, 96)        0         \n",
            "_________________________________________________________________\n",
            "layer_normalization (LayerNo (None, 55, 55, 96)        192       \n",
            "_________________________________________________________________\n",
            "conv2d_1 (Conv2D)            (None, 55, 55, 256)       614656    \n",
            "_________________________________________________________________\n",
            "max_pooling2d_1 (MaxPooling2 (None, 27, 27, 256)       0         \n",
            "_________________________________________________________________\n",
            "layer_normalization_1 (Layer (None, 27, 27, 256)       512       \n",
            "_________________________________________________________________\n",
            "conv2d_2 (Conv2D)            (None, 27, 27, 256)       590080    \n",
            "_________________________________________________________________\n",
            "max_pooling2d_2 (MaxPooling2 (None, 13, 13, 256)       0         \n",
            "_________________________________________________________________\n",
            "layer_normalization_2 (Layer (None, 13, 13, 256)       512       \n",
            "_________________________________________________________________\n",
            "flatten (Flatten)            (None, 43264)             0         \n",
            "_________________________________________________________________\n",
            "dense (Dense)                (None, 512)               22151680  \n",
            "_________________________________________________________________\n",
            "dropout (Dropout)            (None, 512)               0         \n",
            "_________________________________________________________________\n",
            "dense_1 (Dense)              (None, 512)               262656    \n",
            "_________________________________________________________________\n",
            "dropout_1 (Dropout)          (None, 512)               0         \n",
            "_________________________________________________________________\n",
            "dense_2 (Dense)              (None, 2)                 1026      \n",
            "=================================================================\n",
            "Total params: 23,635,522\n",
            "Trainable params: 23,635,522\n",
            "Non-trainable params: 0\n",
            "_________________________________________________________________\n"
          ],
          "name": "stdout"
        }
      ]
    },
    {
      "cell_type": "code",
      "metadata": {
        "execution": {
          "iopub.execute_input": "2021-01-26T00:05:21.948696Z",
          "iopub.status.busy": "2021-01-26T00:05:21.947836Z",
          "iopub.status.idle": "2021-01-26T03:21:18.480646Z",
          "shell.execute_reply": "2021-01-26T03:21:18.481925Z"
        },
        "papermill": {
          "duration": 11756.607038,
          "end_time": "2021-01-26T03:21:18.482160",
          "exception": false,
          "start_time": "2021-01-26T00:05:21.875122",
          "status": "completed"
        },
        "tags": [],
        "id": "WSJYwbackEJ-",
        "outputId": "9db50e1c-25ac-4eef-dd6b-df0361fb877b"
      },
      "source": [
        "callback = tf.keras.callbacks.EarlyStopping(monitor='loss', patience=3) # Callback for earlystopping\n",
        "\n",
        "model.compile(optimizer='adam', loss=tf.keras.losses.SparseCategoricalCrossentropy(from_logits=True), metrics=['accuracy'])\n",
        "\n",
        "epochs=20\n",
        "history = model.fit(train_images, y_train, batch_size=32,  epochs=epochs, validation_data=(test_images, y_test), callbacks=[callback])\n"
      ],
      "execution_count": null,
      "outputs": [
        {
          "output_type": "stream",
          "text": [
            "Epoch 1/20\n",
            "382/382 [==============================] - 1952s 5s/step - loss: 0.7787 - accuracy: 0.5343 - val_loss: 0.7795 - val_accuracy: 0.5338\n",
            "Epoch 2/20\n",
            "382/382 [==============================] - 1944s 5s/step - loss: 0.7781 - accuracy: 0.5351 - val_loss: 0.7795 - val_accuracy: 0.5338\n",
            "Epoch 3/20\n",
            "382/382 [==============================] - 1951s 5s/step - loss: 0.7781 - accuracy: 0.5351 - val_loss: 0.7795 - val_accuracy: 0.5338\n",
            "Epoch 4/20\n",
            "382/382 [==============================] - 1953s 5s/step - loss: 0.7781 - accuracy: 0.5351 - val_loss: 0.7795 - val_accuracy: 0.5338\n",
            "Epoch 5/20\n",
            "382/382 [==============================] - 1960s 5s/step - loss: 0.7781 - accuracy: 0.5351 - val_loss: 0.7795 - val_accuracy: 0.5338\n",
            "Epoch 6/20\n",
            "382/382 [==============================] - 1966s 5s/step - loss: 0.7781 - accuracy: 0.5351 - val_loss: 0.7795 - val_accuracy: 0.5338\n"
          ],
          "name": "stdout"
        }
      ]
    },
    {
      "cell_type": "code",
      "metadata": {
        "execution": {
          "iopub.execute_input": "2021-01-26T03:21:21.043698Z",
          "iopub.status.busy": "2021-01-26T03:21:21.042541Z",
          "iopub.status.idle": "2021-01-26T03:21:21.048144Z",
          "shell.execute_reply": "2021-01-26T03:21:21.047510Z"
        },
        "papermill": {
          "duration": 1.290396,
          "end_time": "2021-01-26T03:21:21.048268",
          "exception": false,
          "start_time": "2021-01-26T03:21:19.757872",
          "status": "completed"
        },
        "tags": [],
        "id": "iyY32Ay8kEJ-"
      },
      "source": [
        "#save history\n",
        "import pickle\n",
        "with open('/trainHistoryDict', 'wb') as file_pi:\n",
        "        pickle.dump(history.history, file_pi)    "
      ],
      "execution_count": null,
      "outputs": []
    },
    {
      "cell_type": "code",
      "metadata": {
        "execution": {
          "iopub.execute_input": "2021-01-26T03:21:23.717089Z",
          "iopub.status.busy": "2021-01-26T03:21:23.715678Z",
          "iopub.status.idle": "2021-01-26T03:25:08.350018Z",
          "shell.execute_reply": "2021-01-26T03:25:08.349247Z"
        },
        "papermill": {
          "duration": 226.450173,
          "end_time": "2021-01-26T03:25:08.350151",
          "exception": false,
          "start_time": "2021-01-26T03:21:21.899978",
          "status": "completed"
        },
        "tags": [],
        "id": "mi81I4vakEJ-",
        "outputId": "097a56f8-672f-4cad-982e-ff0ede0853be"
      },
      "source": [
        "test_loss, test_acc = model.evaluate(test_images, y_test, verbose=2)\n",
        "print('Testing accuracy',test_acc)"
      ],
      "execution_count": null,
      "outputs": [
        {
          "output_type": "stream",
          "text": [
            "164/164 - 222s - loss: 0.7795 - accuracy: 0.5338\n",
            "Testing accuracy 0.5338044166564941\n"
          ],
          "name": "stdout"
        }
      ]
    },
    {
      "cell_type": "code",
      "metadata": {
        "execution": {
          "iopub.execute_input": "2021-01-26T03:25:10.928429Z",
          "iopub.status.busy": "2021-01-26T03:25:10.927289Z",
          "iopub.status.idle": "2021-01-26T03:34:08.128806Z",
          "shell.execute_reply": "2021-01-26T03:34:08.128173Z"
        },
        "papermill": {
          "duration": 538.493832,
          "end_time": "2021-01-26T03:34:08.128932",
          "exception": false,
          "start_time": "2021-01-26T03:25:09.635100",
          "status": "completed"
        },
        "tags": [],
        "id": "7_z5O3qQkEJ-",
        "outputId": "99a44f20-7f2b-4cc4-99c5-d7b2d4e5a6aa"
      },
      "source": [
        "train_acc=model.evaluate(train_images, y_train)\n",
        "print('Training accuracy',train_acc)"
      ],
      "execution_count": null,
      "outputs": [
        {
          "output_type": "stream",
          "text": [
            "382/382 [==============================] - 533s 1s/step - loss: 0.7781 - accuracy: 0.5351\n",
            "Training accuracy [0.7781448364257812, 0.5351178646087646]\n"
          ],
          "name": "stdout"
        }
      ]
    },
    {
      "cell_type": "markdown",
      "metadata": {
        "papermill": {
          "duration": 0.880861,
          "end_time": "2021-01-26T03:34:09.799944",
          "exception": false,
          "start_time": "2021-01-26T03:34:08.919083",
          "status": "completed"
        },
        "tags": [],
        "id": "zDRxwA37kEJ_"
      },
      "source": [
        "### Predection gender (0:f, 1:m)"
      ]
    },
    {
      "cell_type": "code",
      "metadata": {
        "execution": {
          "iopub.execute_input": "2021-01-26T03:34:11.817364Z",
          "iopub.status.busy": "2021-01-26T03:34:11.816466Z",
          "iopub.status.idle": "2021-01-26T03:34:12.245137Z",
          "shell.execute_reply": "2021-01-26T03:34:12.245687Z"
        },
        "papermill": {
          "duration": 1.464702,
          "end_time": "2021-01-26T03:34:12.245915",
          "exception": false,
          "start_time": "2021-01-26T03:34:10.781213",
          "status": "completed"
        },
        "tags": [],
        "id": "IDiVUQm4kEJ_",
        "outputId": "ae51aff2-ca87-4695-8826-e19f89db105a"
      },
      "source": [
        "#predection\n",
        "model.predict(test_images[:4])\n",
        "#test_images[:4]\n",
        "y_test[:4]"
      ],
      "execution_count": null,
      "outputs": [
        {
          "output_type": "execute_result",
          "data": {
            "text/html": [
              "<div>\n",
              "<style scoped>\n",
              "    .dataframe tbody tr th:only-of-type {\n",
              "        vertical-align: middle;\n",
              "    }\n",
              "\n",
              "    .dataframe tbody tr th {\n",
              "        vertical-align: top;\n",
              "    }\n",
              "\n",
              "    .dataframe thead th {\n",
              "        text-align: right;\n",
              "    }\n",
              "</style>\n",
              "<table border=\"1\" class=\"dataframe\">\n",
              "  <thead>\n",
              "    <tr style=\"text-align: right;\">\n",
              "      <th></th>\n",
              "      <th>gender</th>\n",
              "    </tr>\n",
              "  </thead>\n",
              "  <tbody>\n",
              "    <tr>\n",
              "      <th>16807</th>\n",
              "      <td>1</td>\n",
              "    </tr>\n",
              "    <tr>\n",
              "      <th>1395</th>\n",
              "      <td>1</td>\n",
              "    </tr>\n",
              "    <tr>\n",
              "      <th>2362</th>\n",
              "      <td>0</td>\n",
              "    </tr>\n",
              "    <tr>\n",
              "      <th>19</th>\n",
              "      <td>1</td>\n",
              "    </tr>\n",
              "  </tbody>\n",
              "</table>\n",
              "</div>"
            ],
            "text/plain": [
              "       gender\n",
              "16807       1\n",
              "1395        1\n",
              "2362        0\n",
              "19          1"
            ]
          },
          "metadata": {
            "tags": []
          },
          "execution_count": 28
        }
      ]
    },
    {
      "cell_type": "code",
      "metadata": {
        "execution": {
          "iopub.execute_input": "2021-01-26T03:34:15.222262Z",
          "iopub.status.busy": "2021-01-26T03:34:15.221582Z",
          "iopub.status.idle": "2021-01-26T03:37:58.416677Z",
          "shell.execute_reply": "2021-01-26T03:37:58.416026Z"
        },
        "papermill": {
          "duration": 225.18596,
          "end_time": "2021-01-26T03:37:58.416866",
          "exception": false,
          "start_time": "2021-01-26T03:34:13.230906",
          "status": "completed"
        },
        "tags": [],
        "id": "FRpeeVqgkEJ_"
      },
      "source": [
        "from sklearn.metrics import confusion_matrix\n",
        "pred = model.predict(test_images)\n",
        "pred = np.argmax(pred,axis = 1) \n",
        "y_true = np.argmax(y_test,axis = 1)"
      ],
      "execution_count": null,
      "outputs": []
    },
    {
      "cell_type": "code",
      "metadata": {
        "execution": {
          "iopub.execute_input": "2021-01-26T03:38:00.388105Z",
          "iopub.status.busy": "2021-01-26T03:38:00.387423Z",
          "iopub.status.idle": "2021-01-26T03:38:00.402012Z",
          "shell.execute_reply": "2021-01-26T03:38:00.401331Z"
        },
        "papermill": {
          "duration": 1.00476,
          "end_time": "2021-01-26T03:38:00.402182",
          "exception": false,
          "start_time": "2021-01-26T03:37:59.397422",
          "status": "completed"
        },
        "tags": [],
        "id": "tds_FbMBkEKA",
        "outputId": "6de89402-53f2-4caa-8dda-367c0addcf8c"
      },
      "source": [
        "from sklearn.metrics import classification_report\n",
        "CM=classification_report(y_true, pred)\n",
        "print(CM)"
      ],
      "execution_count": null,
      "outputs": [
        {
          "output_type": "stream",
          "text": [
            "              precision    recall  f1-score   support\n",
            "\n",
            "           0       1.00      1.00      1.00      5236\n",
            "\n",
            "    accuracy                           1.00      5236\n",
            "   macro avg       1.00      1.00      1.00      5236\n",
            "weighted avg       1.00      1.00      1.00      5236\n",
            "\n"
          ],
          "name": "stdout"
        }
      ]
    },
    {
      "cell_type": "code",
      "metadata": {
        "execution": {
          "iopub.execute_input": "2021-01-26T03:38:02.424712Z",
          "iopub.status.busy": "2021-01-26T03:38:02.423866Z",
          "iopub.status.idle": "2021-01-26T03:38:02.427127Z",
          "shell.execute_reply": "2021-01-26T03:38:02.427846Z"
        },
        "papermill": {
          "duration": 1.052427,
          "end_time": "2021-01-26T03:38:02.428020",
          "exception": false,
          "start_time": "2021-01-26T03:38:01.375593",
          "status": "completed"
        },
        "tags": [],
        "id": "lG2ao-NJkEKA",
        "outputId": "bdd2876c-8a3a-48d4-dc7c-88e66c18e402"
      },
      "source": [
        "from sklearn.metrics import r2_score\n",
        "print('R2 score for gender: ', r2_score(y_true, pred))"
      ],
      "execution_count": null,
      "outputs": [
        {
          "output_type": "stream",
          "text": [
            "R2 score for gender:  1.0\n"
          ],
          "name": "stdout"
        }
      ]
    },
    {
      "cell_type": "code",
      "metadata": {
        "execution": {
          "iopub.execute_input": "2021-01-26T03:38:08.571668Z",
          "iopub.status.busy": "2021-01-26T03:38:08.570853Z",
          "iopub.status.idle": "2021-01-26T03:38:09.540978Z",
          "shell.execute_reply": "2021-01-26T03:38:09.540278Z"
        },
        "papermill": {
          "duration": 2.463977,
          "end_time": "2021-01-26T03:38:09.541091",
          "exception": false,
          "start_time": "2021-01-26T03:38:07.077114",
          "status": "completed"
        },
        "tags": [],
        "id": "72XFRUvIkEKA",
        "outputId": "15e5faed-efb9-4dba-e4b3-a5eec8e02a9e"
      },
      "source": [
        "#visualaze cnn model\n",
        "from keras.utils.vis_utils import plot_model\n",
        "\n",
        "plot_model(model, to_file='model_plot.png', show_shapes=True, show_layer_names=True)"
      ],
      "execution_count": null,
      "outputs": [
        {
          "output_type": "execute_result",
          "data": {
            "image/png": "[encoded data removed]",
            "text/plain": [
              "<IPython.core.display.Image object>"
            ]
          },
          "metadata": {
            "tags": []
          },
          "execution_count": 33
        }
      ]
    },
    {
      "cell_type": "markdown",
      "metadata": {
        "papermill": {
          "duration": 0.984065,
          "end_time": "2021-01-26T03:38:11.575539",
          "exception": false,
          "start_time": "2021-01-26T03:38:10.591474",
          "status": "completed"
        },
        "tags": [],
        "id": "D91kbL61kEKB"
      },
      "source": [
        "### -----------------------------------------------------------------------------------------------"
      ]
    },
    {
      "cell_type": "markdown",
      "metadata": {
        "papermill": {
          "duration": 1.300923,
          "end_time": "2021-01-26T03:38:13.869829",
          "exception": false,
          "start_time": "2021-01-26T03:38:12.568906",
          "status": "completed"
        },
        "tags": [],
        "id": "4tSQiL_CkEKB"
      },
      "source": [
        "### Age classification"
      ]
    },
    {
      "cell_type": "code",
      "metadata": {
        "execution": {
          "iopub.execute_input": "2021-01-26T03:38:16.616469Z",
          "iopub.status.busy": "2021-01-26T03:38:16.615804Z",
          "iopub.status.idle": "2021-01-26T03:38:16.631145Z",
          "shell.execute_reply": "2021-01-26T03:38:16.630515Z"
        },
        "papermill": {
          "duration": 1.43139,
          "end_time": "2021-01-26T03:38:16.631270",
          "exception": false,
          "start_time": "2021-01-26T03:38:15.199880",
          "status": "completed"
        },
        "tags": [],
        "id": "yY-azSghkEKB",
        "outputId": "309443f2-8560-4b82-dcea-d642da82ec1d"
      },
      "source": [
        "#splitting dataset\n",
        "X = unbiased_data[['img_path']]\n",
        "y = unbiased_data[['age']]\n",
        "from sklearn.model_selection import train_test_split\n",
        "X_train, X_test, y_train, y_test = train_test_split(X, y, test_size=0.3, random_state=42)\n",
        "\n",
        "print('Train data shape {}'.format(X_train.shape))\n",
        "print('Test data shape {}'.format(X_test.shape))"
      ],
      "execution_count": null,
      "outputs": [
        {
          "output_type": "stream",
          "text": [
            "Train data shape (12216, 1)\n",
            "Test data shape (5236, 1)\n"
          ],
          "name": "stdout"
        }
      ]
    },
    {
      "cell_type": "code",
      "metadata": {
        "execution": {
          "iopub.execute_input": "2021-01-26T03:38:18.609107Z",
          "iopub.status.busy": "2021-01-26T03:38:18.601661Z",
          "iopub.status.idle": "2021-01-26T03:41:05.930130Z",
          "shell.execute_reply": "2021-01-26T03:41:05.930645Z"
        },
        "papermill": {
          "duration": 168.317835,
          "end_time": "2021-01-26T03:41:05.930795",
          "exception": false,
          "start_time": "2021-01-26T03:38:17.612960",
          "status": "completed"
        },
        "tags": [],
        "id": "SLmMn4IukEKB",
        "outputId": "90b8e058-c2a9-4983-8cc9-23e3f78fe4dc"
      },
      "source": [
        "train_images = []\n",
        "test_images = []\n",
        "\n",
        "for row in X_train.iterrows():\n",
        "    image = Image.open(row[1].img_path)\n",
        "    image = image.resize((227, 227))   # Resize the image\n",
        "    data = np.asarray(image)\n",
        "    train_images.append(data)\n",
        "\n",
        "for row in X_test.iterrows():\n",
        "    image = Image.open(row[1].img_path)\n",
        "    image = image.resize((227, 227))  # Resize the image\n",
        "    data = np.asarray(image)\n",
        "    test_images.append(data)\n",
        "\n",
        "train_images = np.asarray(train_images)\n",
        "test_images = np.asarray(test_images)\n",
        "\n",
        "print('Train images shape {}'.format(train_images.shape))\n",
        "print('Test images shape {}'.format(test_images.shape))"
      ],
      "execution_count": null,
      "outputs": [
        {
          "output_type": "stream",
          "text": [
            "Train images shape (12216, 227, 227, 3)\n",
            "Test images shape (5236, 227, 227, 3)\n"
          ],
          "name": "stdout"
        }
      ]
    },
    {
      "cell_type": "code",
      "metadata": {
        "execution": {
          "iopub.execute_input": "2021-01-26T03:41:08.754805Z",
          "iopub.status.busy": "2021-01-26T03:41:08.753965Z",
          "iopub.status.idle": "2021-01-26T03:41:08.981078Z",
          "shell.execute_reply": "2021-01-26T03:41:08.981776Z"
        },
        "papermill": {
          "duration": 1.640836,
          "end_time": "2021-01-26T03:41:08.981956",
          "exception": false,
          "start_time": "2021-01-26T03:41:07.341120",
          "status": "completed"
        },
        "tags": [],
        "id": "B0Ps17vykEKC"
      },
      "source": [
        "model = Sequential()\n",
        "model.add(Conv2D(input_shape=(227, 227, 3), filters=96, kernel_size=(7, 7), strides=4, padding='valid', activation='relu'))\n",
        "model.add(MaxPooling2D(pool_size=(2,2),strides=(2,2)))\n",
        "model.add(LayerNormalization())\n",
        "model.add(Conv2D(filters=256, kernel_size=(5, 5), strides=1, padding='same', activation='relu'))\n",
        "model.add(MaxPooling2D(pool_size=(2,2),strides=(2,2)))\n",
        "model.add(LayerNormalization())\n",
        "model.add(Conv2D(filters=256, kernel_size=(3, 3), strides=1, padding='same', activation='relu'))\n",
        "model.add(MaxPooling2D(pool_size=(2,2),strides=(2,2)))\n",
        "model.add(LayerNormalization())\n",
        "\n",
        "model.add(Flatten())\n",
        "model.add(Dense(units=512, activation='relu'))\n",
        "model.add(Dropout(rate=0.25))\n",
        "model.add(Dense(units=512, activation='relu'))\n",
        "model.add(Dropout(rate=0.25))\n",
        "model.add(Dense(units=8, activation='softmax'))"
      ],
      "execution_count": null,
      "outputs": []
    },
    {
      "cell_type": "code",
      "metadata": {
        "execution": {
          "iopub.execute_input": "2021-01-26T03:41:11.955040Z",
          "iopub.status.busy": "2021-01-26T03:41:11.954162Z",
          "iopub.status.idle": "2021-01-26T04:26:00.978614Z",
          "shell.execute_reply": "2021-01-26T04:26:00.979224Z"
        },
        "papermill": {
          "duration": 2690.497705,
          "end_time": "2021-01-26T04:26:00.979387",
          "exception": false,
          "start_time": "2021-01-26T03:41:10.481682",
          "status": "completed"
        },
        "tags": [],
        "id": "G-XRqAv8kEKC",
        "outputId": "5e0a4b35-5577-4439-b10f-9a6cad931946"
      },
      "source": [
        "callback = tf.keras.callbacks.EarlyStopping(monitor='loss', patience=3) # Callback for earlystopping\n",
        "\n",
        "model.compile(optimizer='adam', loss=tf.keras.losses.SparseCategoricalCrossentropy(from_logits=True), metrics=['accuracy'])\n",
        "\n",
        "epochs=20\n",
        "history = model.fit(train_images, y_train, batch_size=32, epochs=epochs, validation_data=(test_images, y_test), callbacks=[callback])"
      ],
      "execution_count": null,
      "outputs": [
        {
          "output_type": "stream",
          "text": [
            "Epoch 1/20\n",
            "382/382 [==============================] - 534s 1s/step - loss: 1.9770 - accuracy: 0.2968 - val_loss: 1.9675 - val_accuracy: 0.3065\n",
            "Epoch 2/20\n",
            "382/382 [==============================] - 534s 1s/step - loss: 1.9764 - accuracy: 0.2976 - val_loss: 1.9675 - val_accuracy: 0.3065\n",
            "Epoch 3/20\n",
            "382/382 [==============================] - 535s 1s/step - loss: 1.9764 - accuracy: 0.2976 - val_loss: 1.9675 - val_accuracy: 0.3065\n",
            "Epoch 4/20\n",
            "382/382 [==============================] - 536s 1s/step - loss: 1.9764 - accuracy: 0.2976 - val_loss: 1.9675 - val_accuracy: 0.3065\n",
            "Epoch 5/20\n",
            "382/382 [==============================] - 537s 1s/step - loss: 1.9764 - accuracy: 0.2976 - val_loss: 1.9675 - val_accuracy: 0.3065\n"
          ],
          "name": "stdout"
        }
      ]
    },
    {
      "cell_type": "code",
      "metadata": {
        "execution": {
          "iopub.execute_input": "2021-01-26T04:26:04.396629Z",
          "iopub.status.busy": "2021-01-26T04:26:04.395830Z",
          "iopub.status.idle": "2021-01-26T04:26:04.401570Z",
          "shell.execute_reply": "2021-01-26T04:26:04.400565Z"
        },
        "papermill": {
          "duration": 1.686177,
          "end_time": "2021-01-26T04:26:04.401684",
          "exception": false,
          "start_time": "2021-01-26T04:26:02.715507",
          "status": "completed"
        },
        "tags": [],
        "id": "p6S97kaVkEKC"
      },
      "source": [
        "#save history\n",
        "with open('/trainHistoryDict', 'wb') as file_pi:\n",
        "        pickle.dump(history.history, file_pi)"
      ],
      "execution_count": null,
      "outputs": []
    },
    {
      "cell_type": "code",
      "metadata": {
        "execution": {
          "iopub.execute_input": "2021-01-26T04:26:08.171532Z",
          "iopub.status.busy": "2021-01-26T04:26:08.168351Z",
          "iopub.status.idle": "2021-01-26T04:27:08.722101Z",
          "shell.execute_reply": "2021-01-26T04:27:08.721657Z"
        },
        "papermill": {
          "duration": 62.69785,
          "end_time": "2021-01-26T04:27:08.722185",
          "exception": false,
          "start_time": "2021-01-26T04:26:06.024335",
          "status": "completed"
        },
        "tags": [],
        "id": "4iEdCZickEKC",
        "outputId": "dd7b9edb-2f14-48e8-b54a-ed648926798d"
      },
      "source": [
        "test_loss, test_acc = model.evaluate(test_images, y_test, verbose=2)\n",
        "print('Testing accuracy',test_acc)"
      ],
      "execution_count": null,
      "outputs": [
        {
          "output_type": "stream",
          "text": [
            "164/164 - 59s - loss: 1.9675 - accuracy: 0.3065\n",
            "Testing accuracy 0.306531697511673\n"
          ],
          "name": "stdout"
        }
      ]
    },
    {
      "cell_type": "code",
      "metadata": {
        "execution": {
          "iopub.execute_input": "2021-01-26T04:27:13.410354Z",
          "iopub.status.busy": "2021-01-26T04:27:12.023593Z",
          "iopub.status.idle": "2021-01-26T04:29:33.735796Z",
          "shell.execute_reply": "2021-01-26T04:29:33.735180Z"
        },
        "papermill": {
          "duration": 143.38584,
          "end_time": "2021-01-26T04:29:33.735920",
          "exception": false,
          "start_time": "2021-01-26T04:27:10.350080",
          "status": "completed"
        },
        "tags": [],
        "id": "P1RG05swkEKC",
        "outputId": "2851c3c2-252e-4dff-e6f2-799f3a9cbca0"
      },
      "source": [
        "train_acc=model.evaluate(train_images, y_train)\n",
        "print('Training accuracy',train_acc)"
      ],
      "execution_count": null,
      "outputs": [
        {
          "output_type": "stream",
          "text": [
            "382/382 [==============================] - 140s 366ms/step - loss: 1.9764 - accuracy: 0.2976\n",
            "Training accuracy [1.9764430522918701, 0.29756057262420654]\n"
          ],
          "name": "stdout"
        }
      ]
    },
    {
      "cell_type": "markdown",
      "metadata": {
        "papermill": {
          "duration": 1.974878,
          "end_time": "2021-01-26T04:29:37.358046",
          "exception": false,
          "start_time": "2021-01-26T04:29:35.383168",
          "status": "completed"
        },
        "tags": [],
        "id": "1LPwC5ddkEKD"
      },
      "source": [
        "### Predection age ('0-2':0,  '4-6':1,  '8-13':2,  '15-20':3,  '25-32':4,  '38-43':5,  '48-53':6, '60+':7)"
      ]
    },
    {
      "cell_type": "code",
      "metadata": {
        "execution": {
          "iopub.execute_input": "2021-01-26T04:29:42.606803Z",
          "iopub.status.busy": "2021-01-26T04:29:42.605549Z",
          "iopub.status.idle": "2021-01-26T04:29:43.127238Z",
          "shell.execute_reply": "2021-01-26T04:29:43.126394Z"
        },
        "papermill": {
          "duration": 3.213735,
          "end_time": "2021-01-26T04:29:43.127381",
          "exception": false,
          "start_time": "2021-01-26T04:29:39.913646",
          "status": "completed"
        },
        "tags": [],
        "id": "HCcoFKcBkEKD",
        "outputId": "917b35d2-3c23-4cb9-fda0-8779ec3aed2d"
      },
      "source": [
        "#predection\n",
        "model.predict(test_images[:4])\n",
        "#test_images[:4]\n",
        "y_test[:4]"
      ],
      "execution_count": null,
      "outputs": [
        {
          "output_type": "execute_result",
          "data": {
            "text/html": [
              "<div>\n",
              "<style scoped>\n",
              "    .dataframe tbody tr th:only-of-type {\n",
              "        vertical-align: middle;\n",
              "    }\n",
              "\n",
              "    .dataframe tbody tr th {\n",
              "        vertical-align: top;\n",
              "    }\n",
              "\n",
              "    .dataframe thead th {\n",
              "        text-align: right;\n",
              "    }\n",
              "</style>\n",
              "<table border=\"1\" class=\"dataframe\">\n",
              "  <thead>\n",
              "    <tr style=\"text-align: right;\">\n",
              "      <th></th>\n",
              "      <th>age</th>\n",
              "    </tr>\n",
              "  </thead>\n",
              "  <tbody>\n",
              "    <tr>\n",
              "      <th>16807</th>\n",
              "      <td>1</td>\n",
              "    </tr>\n",
              "    <tr>\n",
              "      <th>1395</th>\n",
              "      <td>3</td>\n",
              "    </tr>\n",
              "    <tr>\n",
              "      <th>2362</th>\n",
              "      <td>3</td>\n",
              "    </tr>\n",
              "    <tr>\n",
              "      <th>19</th>\n",
              "      <td>4</td>\n",
              "    </tr>\n",
              "  </tbody>\n",
              "</table>\n",
              "</div>"
            ],
            "text/plain": [
              "       age\n",
              "16807    1\n",
              "1395     3\n",
              "2362     3\n",
              "19       4"
            ]
          },
          "metadata": {
            "tags": []
          },
          "execution_count": 41
        }
      ]
    },
    {
      "cell_type": "code",
      "metadata": {
        "execution": {
          "iopub.execute_input": "2021-01-26T04:29:48.636298Z",
          "iopub.status.busy": "2021-01-26T04:29:48.282863Z",
          "iopub.status.idle": "2021-01-26T04:30:47.552780Z",
          "shell.execute_reply": "2021-01-26T04:30:47.552193Z"
        },
        "papermill": {
          "duration": 61.719203,
          "end_time": "2021-01-26T04:30:47.552901",
          "exception": false,
          "start_time": "2021-01-26T04:29:45.833698",
          "status": "completed"
        },
        "tags": [],
        "id": "utGsmLOCkEKD"
      },
      "source": [
        "from sklearn.metrics import confusion_matrix\n",
        "pred2 = model.predict(test_images)\n",
        "pred2 = np.argmax(pred2,axis = 1) \n",
        "y_true2 = np.argmax(y_test,axis = 1)"
      ],
      "execution_count": null,
      "outputs": []
    },
    {
      "cell_type": "code",
      "metadata": {
        "execution": {
          "iopub.execute_input": "2021-01-26T04:30:51.518169Z",
          "iopub.status.busy": "2021-01-26T04:30:51.517233Z",
          "iopub.status.idle": "2021-01-26T04:30:51.548861Z",
          "shell.execute_reply": "2021-01-26T04:30:51.548182Z"
        },
        "papermill": {
          "duration": 2.207329,
          "end_time": "2021-01-26T04:30:51.548975",
          "exception": false,
          "start_time": "2021-01-26T04:30:49.341646",
          "status": "completed"
        },
        "tags": [],
        "id": "3nWhy8EpkEKD",
        "outputId": "d775993e-1520-49a6-915d-dc5fbd1a1343"
      },
      "source": [
        "from sklearn.metrics import classification_report\n",
        "CM2=classification_report(y_true2, pred2)\n",
        "print(CM2)"
      ],
      "execution_count": null,
      "outputs": [
        {
          "output_type": "stream",
          "text": [
            "              precision    recall  f1-score   support\n",
            "\n",
            "           0       0.00      0.00      0.00    5236.0\n",
            "           4       0.00      0.00      0.00       0.0\n",
            "\n",
            "    accuracy                           0.00    5236.0\n",
            "   macro avg       0.00      0.00      0.00    5236.0\n",
            "weighted avg       0.00      0.00      0.00    5236.0\n",
            "\n"
          ],
          "name": "stdout"
        },
        {
          "output_type": "stream",
          "text": [
            "/opt/conda/lib/python3.7/site-packages/sklearn/metrics/_classification.py:1221: UndefinedMetricWarning: Precision and F-score are ill-defined and being set to 0.0 in labels with no predicted samples. Use `zero_division` parameter to control this behavior.\n",
            "  _warn_prf(average, modifier, msg_start, len(result))\n",
            "/opt/conda/lib/python3.7/site-packages/sklearn/metrics/_classification.py:1221: UndefinedMetricWarning: Recall and F-score are ill-defined and being set to 0.0 in labels with no true samples. Use `zero_division` parameter to control this behavior.\n",
            "  _warn_prf(average, modifier, msg_start, len(result))\n"
          ],
          "name": "stderr"
        }
      ]
    },
    {
      "cell_type": "code",
      "metadata": {
        "execution": {
          "iopub.execute_input": "2021-01-26T04:30:55.125390Z",
          "iopub.status.busy": "2021-01-26T04:30:55.124517Z",
          "iopub.status.idle": "2021-01-26T04:30:55.130288Z",
          "shell.execute_reply": "2021-01-26T04:30:55.129628Z"
        },
        "papermill": {
          "duration": 1.798607,
          "end_time": "2021-01-26T04:30:55.130419",
          "exception": false,
          "start_time": "2021-01-26T04:30:53.331812",
          "status": "completed"
        },
        "tags": [],
        "id": "gYLa80w-kEKE",
        "outputId": "48331332-ab38-4611-cdbf-074e837f6dea"
      },
      "source": [
        "from sklearn.metrics import r2_score\n",
        "print('R2 score for age: ', r2_score(y_true2, pred2))"
      ],
      "execution_count": null,
      "outputs": [
        {
          "output_type": "stream",
          "text": [
            "R2 score for age:  0.0\n"
          ],
          "name": "stdout"
        }
      ]
    },
    {
      "cell_type": "markdown",
      "metadata": {
        "papermill": {
          "duration": 1.859276,
          "end_time": "2021-01-26T04:31:02.452169",
          "exception": false,
          "start_time": "2021-01-26T04:31:00.592893",
          "status": "completed"
        },
        "tags": [],
        "id": "fRuK9mWukEKE"
      },
      "source": [
        "other callback test:"
      ]
    },
    {
      "cell_type": "code",
      "metadata": {
        "execution": {
          "iopub.execute_input": "2021-01-26T04:31:09.686500Z",
          "iopub.status.busy": "2021-01-26T04:31:09.685504Z",
          "iopub.status.idle": "2021-01-26T07:32:01.270021Z",
          "shell.execute_reply": "2021-01-26T07:32:01.270755Z"
        },
        "papermill": {
          "duration": 10853.432454,
          "end_time": "2021-01-26T07:32:01.270912",
          "exception": false,
          "start_time": "2021-01-26T04:31:07.838458",
          "status": "completed"
        },
        "tags": [],
        "id": "-jIZ4tOckEKF",
        "outputId": "d679316c-8b0f-46a8-981b-3d7277339ecf"
      },
      "source": [
        "callback = tf.keras.callbacks.TensorBoard(\n",
        "    log_dir='logs', histogram_freq=0, write_graph=True,\n",
        "    write_images=False, update_freq='epoch', profile_batch=2,\n",
        "    embeddings_freq=0, embeddings_metadata=None ) # Callback for TensorBoard\n",
        "\n",
        "model.compile(optimizer='adam', loss=tf.keras.losses.SparseCategoricalCrossentropy(from_logits=True), metrics=['accuracy'])\n",
        "\n",
        "history = model.fit(train_images, y_train, batch_size=32,  epochs=epochs, validation_data=(test_images, y_test), callbacks=[callback])"
      ],
      "execution_count": null,
      "outputs": [
        {
          "output_type": "stream",
          "text": [
            "Epoch 1/20\n",
            "382/382 [==============================] - 539s 1s/step - loss: 1.9764 - accuracy: 0.2976 - val_loss: 1.9675 - val_accuracy: 0.3065\n",
            "Epoch 2/20\n",
            "382/382 [==============================] - 539s 1s/step - loss: 1.9764 - accuracy: 0.2976 - val_loss: 1.9675 - val_accuracy: 0.3065\n",
            "Epoch 3/20\n",
            "382/382 [==============================] - 538s 1s/step - loss: 1.9764 - accuracy: 0.2976 - val_loss: 1.9675 - val_accuracy: 0.3065\n",
            "Epoch 4/20\n",
            "382/382 [==============================] - 540s 1s/step - loss: 1.9764 - accuracy: 0.2976 - val_loss: 1.9675 - val_accuracy: 0.3065\n",
            "Epoch 5/20\n",
            "382/382 [==============================] - 539s 1s/step - loss: 1.9764 - accuracy: 0.2976 - val_loss: 1.9675 - val_accuracy: 0.3065\n",
            "Epoch 6/20\n",
            "382/382 [==============================] - 542s 1s/step - loss: 1.9764 - accuracy: 0.2976 - val_loss: 1.9675 - val_accuracy: 0.3065\n",
            "Epoch 7/20\n",
            "382/382 [==============================] - 543s 1s/step - loss: 1.9764 - accuracy: 0.2976 - val_loss: 1.9675 - val_accuracy: 0.3065\n",
            "Epoch 8/20\n",
            "382/382 [==============================] - 542s 1s/step - loss: 1.9764 - accuracy: 0.2976 - val_loss: 1.9675 - val_accuracy: 0.3065\n",
            "Epoch 9/20\n",
            "382/382 [==============================] - 543s 1s/step - loss: 1.9764 - accuracy: 0.2976 - val_loss: 1.9675 - val_accuracy: 0.3065\n",
            "Epoch 10/20\n",
            "382/382 [==============================] - 543s 1s/step - loss: 1.9764 - accuracy: 0.2976 - val_loss: 1.9675 - val_accuracy: 0.3065\n",
            "Epoch 11/20\n",
            "382/382 [==============================] - 545s 1s/step - loss: 1.9764 - accuracy: 0.2976 - val_loss: 1.9675 - val_accuracy: 0.3065\n",
            "Epoch 12/20\n",
            "382/382 [==============================] - 545s 1s/step - loss: 1.9764 - accuracy: 0.2976 - val_loss: 1.9675 - val_accuracy: 0.3065\n",
            "Epoch 13/20\n",
            "382/382 [==============================] - 544s 1s/step - loss: 1.9764 - accuracy: 0.2976 - val_loss: 1.9675 - val_accuracy: 0.3065\n",
            "Epoch 14/20\n",
            "382/382 [==============================] - 547s 1s/step - loss: 1.9764 - accuracy: 0.2976 - val_loss: 1.9675 - val_accuracy: 0.3065\n",
            "Epoch 15/20\n",
            "382/382 [==============================] - 539s 1s/step - loss: 1.9764 - accuracy: 0.2976 - val_loss: 1.9675 - val_accuracy: 0.3065\n",
            "Epoch 16/20\n",
            "382/382 [==============================] - 538s 1s/step - loss: 1.9764 - accuracy: 0.2976 - val_loss: 1.9675 - val_accuracy: 0.3065\n",
            "Epoch 17/20\n",
            "382/382 [==============================] - 539s 1s/step - loss: 1.9764 - accuracy: 0.2976 - val_loss: 1.9675 - val_accuracy: 0.3065\n",
            "Epoch 18/20\n",
            "382/382 [==============================] - 537s 1s/step - loss: 1.9764 - accuracy: 0.2976 - val_loss: 1.9675 - val_accuracy: 0.3065\n",
            "Epoch 19/20\n",
            "382/382 [==============================] - 536s 1s/step - loss: 1.9764 - accuracy: 0.2976 - val_loss: 1.9675 - val_accuracy: 0.3065\n",
            "Epoch 20/20\n",
            "382/382 [==============================] - 537s 1s/step - loss: 1.9764 - accuracy: 0.2976 - val_loss: 1.9675 - val_accuracy: 0.3065\n"
          ],
          "name": "stdout"
        }
      ]
    },
    {
      "cell_type": "code",
      "metadata": {
        "execution": {
          "iopub.execute_input": "2021-01-26T07:32:11.110772Z",
          "iopub.status.busy": "2021-01-26T07:32:11.108398Z",
          "iopub.status.idle": "2021-01-26T07:32:11.114794Z",
          "shell.execute_reply": "2021-01-26T07:32:11.113944Z"
        },
        "papermill": {
          "duration": 5.353379,
          "end_time": "2021-01-26T07:32:11.114925",
          "exception": false,
          "start_time": "2021-01-26T07:32:05.761546",
          "status": "completed"
        },
        "tags": [],
        "id": "31BAHEr9kEKF"
      },
      "source": [
        "## summarize history for accuracy\n",
        "#plt.plot(history.history['accuracy'])\n",
        "#plt.plot(history.history['val_accuracy'])\n",
        "#plt.title('model accuracy')\n",
        "#plt.ylabel('accuracy')\n",
        "#plt.xlabel('epoch')\n",
        "#plt.legend(['train', 'test'], loc='upper left')\n",
        "#plt.show()\n",
        "## summarize history for loss\n",
        "#plt.plot(history.history['loss'])\n",
        "#plt.plot(history.history['val_loss'])\n",
        "#plt.title('model loss')\n",
        "#plt.ylabel('loss')\n",
        "#plt.xlabel('epoch')\n",
        "#plt.legend(['train', 'test'], loc='upper left')\n",
        "#plt.show()"
      ],
      "execution_count": null,
      "outputs": []
    }
  ]
}